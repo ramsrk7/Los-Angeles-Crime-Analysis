{
  "nbformat": 4,
  "nbformat_minor": 0,
  "metadata": {
    "colab": {
      "name": "Crime Sage - Los Angeles Crime Predictor.ipynb",
      "provenance": [],
      "collapsed_sections": []
    },
    "kernelspec": {
      "name": "python3",
      "display_name": "Python 3"
    },
    "language_info": {
      "name": "python"
    },
    "accelerator": "TPU"
  },
  "cells": [
    {
      "cell_type": "code",
      "metadata": {
        "colab": {
          "base_uri": "https://localhost:8080/"
        },
        "id": "s1Eq-mTYYXCF",
        "outputId": "48067d52-2246-439c-b8b2-24d2671ec9e7"
      },
      "source": [
        "from google.colab import drive\n",
        "import pandas as pd"
      ],
      "execution_count": 2,
      "outputs": [
        {
          "output_type": "stream",
          "name": "stdout",
          "text": [
            "Mounted at /content/drive/\n"
          ]
        }
      ]
    },
    {
      "cell_type": "code",
      "metadata": {
        "id": "GkDl5WwQaCBZ"
      },
      "source": [
        "import pandas as pd \n",
        "import numpy as np # linear algebra\n",
        "import math\n",
        "import matplotlib.pyplot as plt"
      ],
      "execution_count": 3,
      "outputs": []
    },
    {
      "cell_type": "code",
      "metadata": {
        "id": "ltLWnwXr8kwo"
      },
      "source": [
        "drive.mount('/content/drive/') #If using Google Colab"
      ],
      "execution_count": null,
      "outputs": []
    },
    {
      "cell_type": "markdown",
      "metadata": {
        "id": "pmVHvOl28oMq"
      },
      "source": [
        "## DATA PREPROCESSING AND DATA CLEANING:"
      ]
    },
    {
      "cell_type": "code",
      "metadata": {
        "colab": {
          "base_uri": "https://localhost:8080/",
          "height": 539
        },
        "id": "1SYP7IvQaDA4",
        "outputId": "285218a0-0b0c-41d9-d00b-62c81cfd3236"
      },
      "source": [
        "data_files = ['drive/MyDrive/2020-present.csv','drive/MyDrive/2010-2019.csv']\n",
        "df_crime_report = pd.concat(map(lambda file: pd.read_csv(file, parse_dates = ['Date Rptd','DATE OCC','TIME OCC']), data_files))\n",
        "df_crime_report.head()\n"
      ],
      "execution_count": 4,
      "outputs": [
        {
          "output_type": "execute_result",
          "data": {
            "text/html": [
              "<div>\n",
              "<style scoped>\n",
              "    .dataframe tbody tr th:only-of-type {\n",
              "        vertical-align: middle;\n",
              "    }\n",
              "\n",
              "    .dataframe tbody tr th {\n",
              "        vertical-align: top;\n",
              "    }\n",
              "\n",
              "    .dataframe thead th {\n",
              "        text-align: right;\n",
              "    }\n",
              "</style>\n",
              "<table border=\"1\" class=\"dataframe\">\n",
              "  <thead>\n",
              "    <tr style=\"text-align: right;\">\n",
              "      <th></th>\n",
              "      <th>DR_NO</th>\n",
              "      <th>Date Rptd</th>\n",
              "      <th>DATE OCC</th>\n",
              "      <th>TIME OCC</th>\n",
              "      <th>AREA</th>\n",
              "      <th>AREA NAME</th>\n",
              "      <th>Rpt Dist No</th>\n",
              "      <th>Part 1-2</th>\n",
              "      <th>Crm Cd</th>\n",
              "      <th>Crm Cd Desc</th>\n",
              "      <th>Mocodes</th>\n",
              "      <th>Vict Age</th>\n",
              "      <th>Vict Sex</th>\n",
              "      <th>Vict Descent</th>\n",
              "      <th>Premis Cd</th>\n",
              "      <th>Premis Desc</th>\n",
              "      <th>Weapon Used Cd</th>\n",
              "      <th>Weapon Desc</th>\n",
              "      <th>Status</th>\n",
              "      <th>Status Desc</th>\n",
              "      <th>Crm Cd 1</th>\n",
              "      <th>Crm Cd 2</th>\n",
              "      <th>Crm Cd 3</th>\n",
              "      <th>Crm Cd 4</th>\n",
              "      <th>LOCATION</th>\n",
              "      <th>Cross Street</th>\n",
              "      <th>LAT</th>\n",
              "      <th>LON</th>\n",
              "      <th>AREA</th>\n",
              "    </tr>\n",
              "  </thead>\n",
              "  <tbody>\n",
              "    <tr>\n",
              "      <th>0</th>\n",
              "      <td>10304468</td>\n",
              "      <td>2020-01-08</td>\n",
              "      <td>2020-01-08</td>\n",
              "      <td>2230</td>\n",
              "      <td>3.0</td>\n",
              "      <td>Southwest</td>\n",
              "      <td>377</td>\n",
              "      <td>2</td>\n",
              "      <td>624</td>\n",
              "      <td>BATTERY - SIMPLE ASSAULT</td>\n",
              "      <td>0444 0913</td>\n",
              "      <td>36</td>\n",
              "      <td>F</td>\n",
              "      <td>B</td>\n",
              "      <td>501.0</td>\n",
              "      <td>SINGLE FAMILY DWELLING</td>\n",
              "      <td>400.0</td>\n",
              "      <td>STRONG-ARM (HANDS, FIST, FEET OR BODILY FORCE)</td>\n",
              "      <td>AO</td>\n",
              "      <td>Adult Other</td>\n",
              "      <td>624.0</td>\n",
              "      <td>NaN</td>\n",
              "      <td>NaN</td>\n",
              "      <td>NaN</td>\n",
              "      <td>1100 W  39TH                         PL</td>\n",
              "      <td>NaN</td>\n",
              "      <td>34.0141</td>\n",
              "      <td>-118.2978</td>\n",
              "      <td>NaN</td>\n",
              "    </tr>\n",
              "    <tr>\n",
              "      <th>1</th>\n",
              "      <td>190101086</td>\n",
              "      <td>2020-01-02</td>\n",
              "      <td>2020-01-01</td>\n",
              "      <td>0330</td>\n",
              "      <td>1.0</td>\n",
              "      <td>Central</td>\n",
              "      <td>163</td>\n",
              "      <td>2</td>\n",
              "      <td>624</td>\n",
              "      <td>BATTERY - SIMPLE ASSAULT</td>\n",
              "      <td>0416 1822 1414</td>\n",
              "      <td>25</td>\n",
              "      <td>M</td>\n",
              "      <td>H</td>\n",
              "      <td>102.0</td>\n",
              "      <td>SIDEWALK</td>\n",
              "      <td>500.0</td>\n",
              "      <td>UNKNOWN WEAPON/OTHER WEAPON</td>\n",
              "      <td>IC</td>\n",
              "      <td>Invest Cont</td>\n",
              "      <td>624.0</td>\n",
              "      <td>NaN</td>\n",
              "      <td>NaN</td>\n",
              "      <td>NaN</td>\n",
              "      <td>700 S  HILL                         ST</td>\n",
              "      <td>NaN</td>\n",
              "      <td>34.0459</td>\n",
              "      <td>-118.2545</td>\n",
              "      <td>NaN</td>\n",
              "    </tr>\n",
              "    <tr>\n",
              "      <th>2</th>\n",
              "      <td>201418201</td>\n",
              "      <td>2020-10-03</td>\n",
              "      <td>2020-09-29</td>\n",
              "      <td>1830</td>\n",
              "      <td>14.0</td>\n",
              "      <td>Pacific</td>\n",
              "      <td>1454</td>\n",
              "      <td>1</td>\n",
              "      <td>420</td>\n",
              "      <td>THEFT FROM MOTOR VEHICLE - PETTY ($950 &amp; UNDER)</td>\n",
              "      <td>1300 0344 1606 2032</td>\n",
              "      <td>63</td>\n",
              "      <td>M</td>\n",
              "      <td>H</td>\n",
              "      <td>103.0</td>\n",
              "      <td>ALLEY</td>\n",
              "      <td>NaN</td>\n",
              "      <td>NaN</td>\n",
              "      <td>IC</td>\n",
              "      <td>Invest Cont</td>\n",
              "      <td>420.0</td>\n",
              "      <td>NaN</td>\n",
              "      <td>NaN</td>\n",
              "      <td>NaN</td>\n",
              "      <td>4700    LA VILLA MARINA</td>\n",
              "      <td>NaN</td>\n",
              "      <td>33.9813</td>\n",
              "      <td>-118.4350</td>\n",
              "      <td>NaN</td>\n",
              "    </tr>\n",
              "    <tr>\n",
              "      <th>3</th>\n",
              "      <td>191501505</td>\n",
              "      <td>2020-01-01</td>\n",
              "      <td>2020-01-01</td>\n",
              "      <td>1730</td>\n",
              "      <td>15.0</td>\n",
              "      <td>N Hollywood</td>\n",
              "      <td>1543</td>\n",
              "      <td>2</td>\n",
              "      <td>745</td>\n",
              "      <td>VANDALISM - MISDEAMEANOR ($399 OR UNDER)</td>\n",
              "      <td>0329 1402</td>\n",
              "      <td>76</td>\n",
              "      <td>F</td>\n",
              "      <td>W</td>\n",
              "      <td>502.0</td>\n",
              "      <td>MULTI-UNIT DWELLING (APARTMENT, DUPLEX, ETC)</td>\n",
              "      <td>NaN</td>\n",
              "      <td>NaN</td>\n",
              "      <td>IC</td>\n",
              "      <td>Invest Cont</td>\n",
              "      <td>745.0</td>\n",
              "      <td>998.0</td>\n",
              "      <td>NaN</td>\n",
              "      <td>NaN</td>\n",
              "      <td>5400    CORTEEN                      PL</td>\n",
              "      <td>NaN</td>\n",
              "      <td>34.1685</td>\n",
              "      <td>-118.4019</td>\n",
              "      <td>NaN</td>\n",
              "    </tr>\n",
              "    <tr>\n",
              "      <th>4</th>\n",
              "      <td>191921269</td>\n",
              "      <td>2020-01-01</td>\n",
              "      <td>2020-01-01</td>\n",
              "      <td>0415</td>\n",
              "      <td>19.0</td>\n",
              "      <td>Mission</td>\n",
              "      <td>1998</td>\n",
              "      <td>2</td>\n",
              "      <td>740</td>\n",
              "      <td>VANDALISM - FELONY ($400 &amp; OVER, ALL CHURCH VA...</td>\n",
              "      <td>0329</td>\n",
              "      <td>31</td>\n",
              "      <td>X</td>\n",
              "      <td>X</td>\n",
              "      <td>409.0</td>\n",
              "      <td>BEAUTY SUPPLY STORE</td>\n",
              "      <td>NaN</td>\n",
              "      <td>NaN</td>\n",
              "      <td>IC</td>\n",
              "      <td>Invest Cont</td>\n",
              "      <td>740.0</td>\n",
              "      <td>NaN</td>\n",
              "      <td>NaN</td>\n",
              "      <td>NaN</td>\n",
              "      <td>14400    TITUS                        ST</td>\n",
              "      <td>NaN</td>\n",
              "      <td>34.2198</td>\n",
              "      <td>-118.4468</td>\n",
              "      <td>NaN</td>\n",
              "    </tr>\n",
              "  </tbody>\n",
              "</table>\n",
              "</div>"
            ],
            "text/plain": [
              "       DR_NO  Date Rptd   DATE OCC  ...      LAT       LON AREA \n",
              "0   10304468 2020-01-08 2020-01-08  ...  34.0141 -118.2978   NaN\n",
              "1  190101086 2020-01-02 2020-01-01  ...  34.0459 -118.2545   NaN\n",
              "2  201418201 2020-10-03 2020-09-29  ...  33.9813 -118.4350   NaN\n",
              "3  191501505 2020-01-01 2020-01-01  ...  34.1685 -118.4019   NaN\n",
              "4  191921269 2020-01-01 2020-01-01  ...  34.2198 -118.4468   NaN\n",
              "\n",
              "[5 rows x 29 columns]"
            ]
          },
          "metadata": {},
          "execution_count": 4
        }
      ]
    },
    {
      "cell_type": "code",
      "metadata": {
        "colab": {
          "base_uri": "https://localhost:8080/"
        },
        "id": "u5Y15bJ-Th2b",
        "outputId": "d97e9f04-b204-427a-84fc-8bb94eef9004"
      },
      "source": [
        "df_crime_report.isnull().sum()"
      ],
      "execution_count": 5,
      "outputs": [
        {
          "output_type": "execute_result",
          "data": {
            "text/plain": [
              "DR_NO                   0\n",
              "Date Rptd               0\n",
              "DATE OCC                0\n",
              "TIME OCC                0\n",
              "AREA              2127357\n",
              "AREA NAME               0\n",
              "Rpt Dist No             0\n",
              "Part 1-2                0\n",
              "Crm Cd                  0\n",
              "Crm Cd Desc             0\n",
              "Mocodes            258007\n",
              "Vict Age                0\n",
              "Vict Sex           226639\n",
              "Vict Descent       226693\n",
              "Premis Cd              48\n",
              "Premis Desc           243\n",
              "Weapon Used Cd    1517063\n",
              "Weapon Desc       1517063\n",
              "Status                  2\n",
              "Status Desc             0\n",
              "Crm Cd 1               12\n",
              "Crm Cd 2          2140666\n",
              "Crm Cd 3          2292489\n",
              "Crm Cd 4          2296704\n",
              "LOCATION                0\n",
              "Cross Street      1907416\n",
              "LAT                     0\n",
              "LON                     0\n",
              "AREA               169478\n",
              "dtype: int64"
            ]
          },
          "metadata": {},
          "execution_count": 5
        }
      ]
    },
    {
      "cell_type": "code",
      "metadata": {
        "colab": {
          "base_uri": "https://localhost:8080/"
        },
        "id": "ssLhKgSPTrip",
        "outputId": "337f2e31-9f62-407f-c4cd-3e561cf60406"
      },
      "source": [
        "df_crime_report['AREA NAME'].value_counts()"
      ],
      "execution_count": 6,
      "outputs": [
        {
          "output_type": "execute_result",
          "data": {
            "text/plain": [
              "77th Street    154412\n",
              "Southwest      144281\n",
              "Southeast      128247\n",
              "Pacific        125783\n",
              "N Hollywood    122190\n",
              "Mission        118260\n",
              "Northeast      116147\n",
              "Central        107762\n",
              "Hollywood      107151\n",
              "Olympic        106821\n",
              "Devonshire     106745\n",
              "Van Nuys       105854\n",
              "Newton         103569\n",
              "West Valley    100247\n",
              "Harbor          99055\n",
              "Wilshire        97666\n",
              "Rampart         96826\n",
              "Topanga         93137\n",
              "West LA         92566\n",
              "Foothill        85808\n",
              "Hollenbeck      84308\n",
              "Name: AREA NAME, dtype: int64"
            ]
          },
          "metadata": {},
          "execution_count": 6
        }
      ]
    },
    {
      "cell_type": "code",
      "metadata": {
        "colab": {
          "base_uri": "https://localhost:8080/"
        },
        "id": "N3lUCoUNal49",
        "outputId": "7a3dc265-cfd6-463b-e568-ca3df39033b1"
      },
      "source": [
        "len(df_crime_report)"
      ],
      "execution_count": 7,
      "outputs": [
        {
          "output_type": "execute_result",
          "data": {
            "text/plain": [
              "2296835"
            ]
          },
          "metadata": {},
          "execution_count": 7
        }
      ]
    },
    {
      "cell_type": "code",
      "metadata": {
        "id": "aCZjqIytfJV1"
      },
      "source": [
        "data = df_crime_report.drop(columns=['DR_NO', 'Date Rptd','AREA','AREA ','Part 1-2','Crm Cd Desc','Mocodes','Premis Cd','Premis Desc','Weapon Used Cd','Weapon Desc','Status','Status Desc','Crm Cd 1','Crm Cd 2','Crm Cd 3','Crm Cd 4','LOCATION','Cross Street','LAT','LON'])"
      ],
      "execution_count": 8,
      "outputs": []
    },
    {
      "cell_type": "code",
      "metadata": {
        "colab": {
          "base_uri": "https://localhost:8080/"
        },
        "id": "tFMqC_ILe_cj",
        "outputId": "cdd18a64-489a-43b3-9292-016ac4aebf85"
      },
      "source": [
        "data['Rpt Dist No'].value_counts()"
      ],
      "execution_count": 9,
      "outputs": [
        {
          "output_type": "execute_result",
          "data": {
            "text/plain": [
              "645     11605\n",
              "363     10858\n",
              "646     10050\n",
              "1494     9120\n",
              "636      8873\n",
              "        ...  \n",
              "794         1\n",
              "797         1\n",
              "718         1\n",
              "1652        1\n",
              "716         1\n",
              "Name: Rpt Dist No, Length: 1294, dtype: int64"
            ]
          },
          "metadata": {},
          "execution_count": 9
        }
      ]
    },
    {
      "cell_type": "code",
      "metadata": {
        "colab": {
          "base_uri": "https://localhost:8080/",
          "height": 206
        },
        "id": "csu9uvHEjAx8",
        "outputId": "2f9d9828-b373-4c94-978a-2febbe6ab9ee"
      },
      "source": [
        "data.head()"
      ],
      "execution_count": 10,
      "outputs": [
        {
          "output_type": "execute_result",
          "data": {
            "text/html": [
              "<div>\n",
              "<style scoped>\n",
              "    .dataframe tbody tr th:only-of-type {\n",
              "        vertical-align: middle;\n",
              "    }\n",
              "\n",
              "    .dataframe tbody tr th {\n",
              "        vertical-align: top;\n",
              "    }\n",
              "\n",
              "    .dataframe thead th {\n",
              "        text-align: right;\n",
              "    }\n",
              "</style>\n",
              "<table border=\"1\" class=\"dataframe\">\n",
              "  <thead>\n",
              "    <tr style=\"text-align: right;\">\n",
              "      <th></th>\n",
              "      <th>DATE OCC</th>\n",
              "      <th>TIME OCC</th>\n",
              "      <th>AREA NAME</th>\n",
              "      <th>Rpt Dist No</th>\n",
              "      <th>Crm Cd</th>\n",
              "      <th>Vict Age</th>\n",
              "      <th>Vict Sex</th>\n",
              "      <th>Vict Descent</th>\n",
              "    </tr>\n",
              "  </thead>\n",
              "  <tbody>\n",
              "    <tr>\n",
              "      <th>0</th>\n",
              "      <td>2020-01-08</td>\n",
              "      <td>2230</td>\n",
              "      <td>Southwest</td>\n",
              "      <td>377</td>\n",
              "      <td>624</td>\n",
              "      <td>36</td>\n",
              "      <td>F</td>\n",
              "      <td>B</td>\n",
              "    </tr>\n",
              "    <tr>\n",
              "      <th>1</th>\n",
              "      <td>2020-01-01</td>\n",
              "      <td>0330</td>\n",
              "      <td>Central</td>\n",
              "      <td>163</td>\n",
              "      <td>624</td>\n",
              "      <td>25</td>\n",
              "      <td>M</td>\n",
              "      <td>H</td>\n",
              "    </tr>\n",
              "    <tr>\n",
              "      <th>2</th>\n",
              "      <td>2020-09-29</td>\n",
              "      <td>1830</td>\n",
              "      <td>Pacific</td>\n",
              "      <td>1454</td>\n",
              "      <td>420</td>\n",
              "      <td>63</td>\n",
              "      <td>M</td>\n",
              "      <td>H</td>\n",
              "    </tr>\n",
              "    <tr>\n",
              "      <th>3</th>\n",
              "      <td>2020-01-01</td>\n",
              "      <td>1730</td>\n",
              "      <td>N Hollywood</td>\n",
              "      <td>1543</td>\n",
              "      <td>745</td>\n",
              "      <td>76</td>\n",
              "      <td>F</td>\n",
              "      <td>W</td>\n",
              "    </tr>\n",
              "    <tr>\n",
              "      <th>4</th>\n",
              "      <td>2020-01-01</td>\n",
              "      <td>0415</td>\n",
              "      <td>Mission</td>\n",
              "      <td>1998</td>\n",
              "      <td>740</td>\n",
              "      <td>31</td>\n",
              "      <td>X</td>\n",
              "      <td>X</td>\n",
              "    </tr>\n",
              "  </tbody>\n",
              "</table>\n",
              "</div>"
            ],
            "text/plain": [
              "    DATE OCC TIME OCC    AREA NAME  ...  Vict Age  Vict Sex  Vict Descent\n",
              "0 2020-01-08     2230    Southwest  ...        36         F             B\n",
              "1 2020-01-01     0330      Central  ...        25         M             H\n",
              "2 2020-09-29     1830      Pacific  ...        63         M             H\n",
              "3 2020-01-01     1730  N Hollywood  ...        76         F             W\n",
              "4 2020-01-01     0415      Mission  ...        31         X             X\n",
              "\n",
              "[5 rows x 8 columns]"
            ]
          },
          "metadata": {},
          "execution_count": 10
        }
      ]
    },
    {
      "cell_type": "code",
      "metadata": {
        "id": "E5Afi7JhhgJQ"
      },
      "source": [
        "data['Date'] = pd.to_datetime(data['DATE OCC'])"
      ],
      "execution_count": 11,
      "outputs": []
    },
    {
      "cell_type": "code",
      "metadata": {
        "id": "D_sQSDIJknG1"
      },
      "source": [
        "data['Day'] = data['Date'].dt.day_name()"
      ],
      "execution_count": 12,
      "outputs": []
    },
    {
      "cell_type": "code",
      "metadata": {
        "colab": {
          "base_uri": "https://localhost:8080/",
          "height": 206
        },
        "id": "D8C_LFeKltUb",
        "outputId": "ce5e3886-7e1d-4703-e46a-e0a332512bfa"
      },
      "source": [
        "data.head()"
      ],
      "execution_count": 13,
      "outputs": [
        {
          "output_type": "execute_result",
          "data": {
            "text/html": [
              "<div>\n",
              "<style scoped>\n",
              "    .dataframe tbody tr th:only-of-type {\n",
              "        vertical-align: middle;\n",
              "    }\n",
              "\n",
              "    .dataframe tbody tr th {\n",
              "        vertical-align: top;\n",
              "    }\n",
              "\n",
              "    .dataframe thead th {\n",
              "        text-align: right;\n",
              "    }\n",
              "</style>\n",
              "<table border=\"1\" class=\"dataframe\">\n",
              "  <thead>\n",
              "    <tr style=\"text-align: right;\">\n",
              "      <th></th>\n",
              "      <th>DATE OCC</th>\n",
              "      <th>TIME OCC</th>\n",
              "      <th>AREA NAME</th>\n",
              "      <th>Rpt Dist No</th>\n",
              "      <th>Crm Cd</th>\n",
              "      <th>Vict Age</th>\n",
              "      <th>Vict Sex</th>\n",
              "      <th>Vict Descent</th>\n",
              "      <th>Date</th>\n",
              "      <th>Day</th>\n",
              "    </tr>\n",
              "  </thead>\n",
              "  <tbody>\n",
              "    <tr>\n",
              "      <th>0</th>\n",
              "      <td>2020-01-08</td>\n",
              "      <td>2230</td>\n",
              "      <td>Southwest</td>\n",
              "      <td>377</td>\n",
              "      <td>624</td>\n",
              "      <td>36</td>\n",
              "      <td>F</td>\n",
              "      <td>B</td>\n",
              "      <td>2020-01-08</td>\n",
              "      <td>Wednesday</td>\n",
              "    </tr>\n",
              "    <tr>\n",
              "      <th>1</th>\n",
              "      <td>2020-01-01</td>\n",
              "      <td>0330</td>\n",
              "      <td>Central</td>\n",
              "      <td>163</td>\n",
              "      <td>624</td>\n",
              "      <td>25</td>\n",
              "      <td>M</td>\n",
              "      <td>H</td>\n",
              "      <td>2020-01-01</td>\n",
              "      <td>Wednesday</td>\n",
              "    </tr>\n",
              "    <tr>\n",
              "      <th>2</th>\n",
              "      <td>2020-09-29</td>\n",
              "      <td>1830</td>\n",
              "      <td>Pacific</td>\n",
              "      <td>1454</td>\n",
              "      <td>420</td>\n",
              "      <td>63</td>\n",
              "      <td>M</td>\n",
              "      <td>H</td>\n",
              "      <td>2020-09-29</td>\n",
              "      <td>Tuesday</td>\n",
              "    </tr>\n",
              "    <tr>\n",
              "      <th>3</th>\n",
              "      <td>2020-01-01</td>\n",
              "      <td>1730</td>\n",
              "      <td>N Hollywood</td>\n",
              "      <td>1543</td>\n",
              "      <td>745</td>\n",
              "      <td>76</td>\n",
              "      <td>F</td>\n",
              "      <td>W</td>\n",
              "      <td>2020-01-01</td>\n",
              "      <td>Wednesday</td>\n",
              "    </tr>\n",
              "    <tr>\n",
              "      <th>4</th>\n",
              "      <td>2020-01-01</td>\n",
              "      <td>0415</td>\n",
              "      <td>Mission</td>\n",
              "      <td>1998</td>\n",
              "      <td>740</td>\n",
              "      <td>31</td>\n",
              "      <td>X</td>\n",
              "      <td>X</td>\n",
              "      <td>2020-01-01</td>\n",
              "      <td>Wednesday</td>\n",
              "    </tr>\n",
              "  </tbody>\n",
              "</table>\n",
              "</div>"
            ],
            "text/plain": [
              "    DATE OCC TIME OCC    AREA NAME  ...  Vict Descent       Date        Day\n",
              "0 2020-01-08     2230    Southwest  ...             B 2020-01-08  Wednesday\n",
              "1 2020-01-01     0330      Central  ...             H 2020-01-01  Wednesday\n",
              "2 2020-09-29     1830      Pacific  ...             H 2020-09-29    Tuesday\n",
              "3 2020-01-01     1730  N Hollywood  ...             W 2020-01-01  Wednesday\n",
              "4 2020-01-01     0415      Mission  ...             X 2020-01-01  Wednesday\n",
              "\n",
              "[5 rows x 10 columns]"
            ]
          },
          "metadata": {},
          "execution_count": 13
        }
      ]
    },
    {
      "cell_type": "code",
      "metadata": {
        "colab": {
          "base_uri": "https://localhost:8080/"
        },
        "id": "EmisYX2EmCch",
        "outputId": "4ba1383e-5bc3-442f-83ce-40fd8dca5bcd"
      },
      "source": [
        "data.dtypes"
      ],
      "execution_count": 14,
      "outputs": [
        {
          "output_type": "execute_result",
          "data": {
            "text/plain": [
              "DATE OCC        datetime64[ns]\n",
              "TIME OCC                object\n",
              "AREA NAME               object\n",
              "Rpt Dist No              int64\n",
              "Crm Cd                   int64\n",
              "Vict Age                 int64\n",
              "Vict Sex                object\n",
              "Vict Descent            object\n",
              "Date            datetime64[ns]\n",
              "Day                     object\n",
              "dtype: object"
            ]
          },
          "metadata": {},
          "execution_count": 14
        }
      ]
    },
    {
      "cell_type": "code",
      "metadata": {
        "id": "v11289RXmLBW"
      },
      "source": [
        "data['TIME OCC'] = data['TIME OCC'].astype('int64')\n"
      ],
      "execution_count": 15,
      "outputs": []
    },
    {
      "cell_type": "code",
      "metadata": {
        "id": "uFzeJz_Tmshn"
      },
      "source": [
        "data['TIME OCC'] = data['TIME OCC'].apply(lambda x: x/2400)"
      ],
      "execution_count": 16,
      "outputs": []
    },
    {
      "cell_type": "code",
      "metadata": {
        "id": "88tqPsdeoqlb"
      },
      "source": [
        "data['Day'] = data['Day'].map({'Sunday': 0, 'Monday': 1, 'Tuesday': 2, 'Wednesday': 3, 'Thursday': 4, 'Friday': 5, 'Saturday':6})"
      ],
      "execution_count": 17,
      "outputs": []
    },
    {
      "cell_type": "code",
      "metadata": {
        "id": "PbseW6iAqPP6"
      },
      "source": [
        "data = data.drop(columns=['DATE OCC', 'Date'])\n"
      ],
      "execution_count": 18,
      "outputs": []
    },
    {
      "cell_type": "code",
      "metadata": {
        "colab": {
          "base_uri": "https://localhost:8080/",
          "height": 206
        },
        "id": "73unrMW_qgcH",
        "outputId": "ec3327aa-fd1c-45bf-c267-e1df73cd229d"
      },
      "source": [
        "data.head()"
      ],
      "execution_count": 19,
      "outputs": [
        {
          "output_type": "execute_result",
          "data": {
            "text/html": [
              "<div>\n",
              "<style scoped>\n",
              "    .dataframe tbody tr th:only-of-type {\n",
              "        vertical-align: middle;\n",
              "    }\n",
              "\n",
              "    .dataframe tbody tr th {\n",
              "        vertical-align: top;\n",
              "    }\n",
              "\n",
              "    .dataframe thead th {\n",
              "        text-align: right;\n",
              "    }\n",
              "</style>\n",
              "<table border=\"1\" class=\"dataframe\">\n",
              "  <thead>\n",
              "    <tr style=\"text-align: right;\">\n",
              "      <th></th>\n",
              "      <th>TIME OCC</th>\n",
              "      <th>AREA NAME</th>\n",
              "      <th>Rpt Dist No</th>\n",
              "      <th>Crm Cd</th>\n",
              "      <th>Vict Age</th>\n",
              "      <th>Vict Sex</th>\n",
              "      <th>Vict Descent</th>\n",
              "      <th>Day</th>\n",
              "    </tr>\n",
              "  </thead>\n",
              "  <tbody>\n",
              "    <tr>\n",
              "      <th>0</th>\n",
              "      <td>0.929167</td>\n",
              "      <td>Southwest</td>\n",
              "      <td>377</td>\n",
              "      <td>624</td>\n",
              "      <td>36</td>\n",
              "      <td>F</td>\n",
              "      <td>B</td>\n",
              "      <td>3</td>\n",
              "    </tr>\n",
              "    <tr>\n",
              "      <th>1</th>\n",
              "      <td>0.137500</td>\n",
              "      <td>Central</td>\n",
              "      <td>163</td>\n",
              "      <td>624</td>\n",
              "      <td>25</td>\n",
              "      <td>M</td>\n",
              "      <td>H</td>\n",
              "      <td>3</td>\n",
              "    </tr>\n",
              "    <tr>\n",
              "      <th>2</th>\n",
              "      <td>0.762500</td>\n",
              "      <td>Pacific</td>\n",
              "      <td>1454</td>\n",
              "      <td>420</td>\n",
              "      <td>63</td>\n",
              "      <td>M</td>\n",
              "      <td>H</td>\n",
              "      <td>2</td>\n",
              "    </tr>\n",
              "    <tr>\n",
              "      <th>3</th>\n",
              "      <td>0.720833</td>\n",
              "      <td>N Hollywood</td>\n",
              "      <td>1543</td>\n",
              "      <td>745</td>\n",
              "      <td>76</td>\n",
              "      <td>F</td>\n",
              "      <td>W</td>\n",
              "      <td>3</td>\n",
              "    </tr>\n",
              "    <tr>\n",
              "      <th>4</th>\n",
              "      <td>0.172917</td>\n",
              "      <td>Mission</td>\n",
              "      <td>1998</td>\n",
              "      <td>740</td>\n",
              "      <td>31</td>\n",
              "      <td>X</td>\n",
              "      <td>X</td>\n",
              "      <td>3</td>\n",
              "    </tr>\n",
              "  </tbody>\n",
              "</table>\n",
              "</div>"
            ],
            "text/plain": [
              "   TIME OCC    AREA NAME  Rpt Dist No  ...  Vict Sex  Vict Descent Day\n",
              "0  0.929167    Southwest          377  ...         F             B   3\n",
              "1  0.137500      Central          163  ...         M             H   3\n",
              "2  0.762500      Pacific         1454  ...         M             H   2\n",
              "3  0.720833  N Hollywood         1543  ...         F             W   3\n",
              "4  0.172917      Mission         1998  ...         X             X   3\n",
              "\n",
              "[5 rows x 8 columns]"
            ]
          },
          "metadata": {},
          "execution_count": 19
        }
      ]
    },
    {
      "cell_type": "code",
      "metadata": {
        "id": "Y9VAcOd3qhnx",
        "colab": {
          "base_uri": "https://localhost:8080/"
        },
        "outputId": "c4922370-656c-4946-d554-930fb26d0654"
      },
      "source": [
        "data.isnull().sum()"
      ],
      "execution_count": 20,
      "outputs": [
        {
          "output_type": "execute_result",
          "data": {
            "text/plain": [
              "TIME OCC             0\n",
              "AREA NAME            0\n",
              "Rpt Dist No          0\n",
              "Crm Cd               0\n",
              "Vict Age             0\n",
              "Vict Sex        226639\n",
              "Vict Descent    226693\n",
              "Day                  0\n",
              "dtype: int64"
            ]
          },
          "metadata": {},
          "execution_count": 20
        }
      ]
    },
    {
      "cell_type": "code",
      "metadata": {
        "id": "IiwVZ_udV9Tr"
      },
      "source": [
        "data['Vict Sex'] = data['Vict Sex'].fillna('UKN')\n",
        "data['Vict Descent'] = data['Vict Descent'].fillna('UKN')"
      ],
      "execution_count": 21,
      "outputs": []
    },
    {
      "cell_type": "code",
      "metadata": {
        "colab": {
          "base_uri": "https://localhost:8080/"
        },
        "id": "6-wiz8CUWk47",
        "outputId": "5c084c5e-5b92-4ba2-e762-2411f5f99540"
      },
      "source": [
        "data.isnull().sum()"
      ],
      "execution_count": 22,
      "outputs": [
        {
          "output_type": "execute_result",
          "data": {
            "text/plain": [
              "TIME OCC        0\n",
              "AREA NAME       0\n",
              "Rpt Dist No     0\n",
              "Crm Cd          0\n",
              "Vict Age        0\n",
              "Vict Sex        0\n",
              "Vict Descent    0\n",
              "Day             0\n",
              "dtype: int64"
            ]
          },
          "metadata": {},
          "execution_count": 22
        }
      ]
    },
    {
      "cell_type": "code",
      "metadata": {
        "colab": {
          "base_uri": "https://localhost:8080/"
        },
        "id": "0kRB49rFV28y",
        "outputId": "984a132e-0266-4e09-f902-6a2c93a85da3"
      },
      "source": [
        "len(data)"
      ],
      "execution_count": 23,
      "outputs": [
        {
          "output_type": "execute_result",
          "data": {
            "text/plain": [
              "2296835"
            ]
          },
          "metadata": {},
          "execution_count": 23
        }
      ]
    },
    {
      "cell_type": "code",
      "metadata": {
        "colab": {
          "base_uri": "https://localhost:8080/"
        },
        "id": "T1X3en6RTcGj",
        "outputId": "d27d71f8-decd-4ba9-8306-e6c72db7f16e"
      },
      "source": [
        "data['Rpt Dist No'].unique().sum()"
      ],
      "execution_count": 24,
      "outputs": [
        {
          "output_type": "execute_result",
          "data": {
            "text/plain": [
              "1482688"
            ]
          },
          "metadata": {},
          "execution_count": 24
        }
      ]
    },
    {
      "cell_type": "markdown",
      "metadata": {
        "id": "nDsqf6R2fOnL"
      },
      "source": [
        "CATEGORSING CRIME CODES TO LESSER NUMBER"
      ]
    },
    {
      "cell_type": "code",
      "metadata": {
        "colab": {
          "base_uri": "https://localhost:8080/"
        },
        "id": "C6y7dxKCfXcr",
        "outputId": "be06fea6-110d-41c4-8454-ef229c329d5f"
      },
      "source": [
        "data['Crm Cd'].value_counts().sort_index()[0:35]"
      ],
      "execution_count": 25,
      "outputs": [
        {
          "output_type": "execute_result",
          "data": {
            "text/plain": [
              "110      3147\n",
              "113        11\n",
              "121     11091\n",
              "122      1165\n",
              "210     90130\n",
              "220     13163\n",
              "230    106095\n",
              "231      2017\n",
              "235      1725\n",
              "236     19875\n",
              "237      5204\n",
              "250       416\n",
              "251      2982\n",
              "310    157191\n",
              "320     13344\n",
              "330    173120\n",
              "331     37492\n",
              "341     75774\n",
              "343      5097\n",
              "345       182\n",
              "347        47\n",
              "349        13\n",
              "350     15836\n",
              "351      1156\n",
              "352      1051\n",
              "353        44\n",
              "354    129163\n",
              "410      3020\n",
              "420     99555\n",
              "421      1562\n",
              "432         2\n",
              "433       550\n",
              "434      1049\n",
              "435        59\n",
              "436        25\n",
              "Name: Crm Cd, dtype: int64"
            ]
          },
          "metadata": {},
          "execution_count": 25
        }
      ]
    },
    {
      "cell_type": "code",
      "metadata": {
        "id": "KRjpJFVEho1X"
      },
      "source": [
        "def categorise_crimes_against_people(x):\n",
        "  if x in range(207,211):\n",
        "    return 0 #kidnap\n",
        "  if x in range(220,222):\n",
        "    return 1 #intent to murder or commit felony\n",
        "  elif x in range(230,231):\n",
        "    return 2 #crime against employers\n",
        "  elif x in range(236,238):\n",
        "    return 3 #Human trafficking\n",
        "  elif x in range(302,311):\n",
        "    return 4 #crime against religion and offence against good morals\n",
        "  elif x in range(346,368):\n",
        "    return 5 #injuries\n",
        "  elif x in range(403,423):\n",
        "    return 6 #crimes against public peace"
      ],
      "execution_count": 26,
      "outputs": []
    },
    {
      "cell_type": "code",
      "metadata": {
        "colab": {
          "base_uri": "https://localhost:8080/",
          "height": 206
        },
        "id": "0IoO8HwLkyhY",
        "outputId": "0ece6bc6-c73a-4531-cb4a-d2e6f9658ce0"
      },
      "source": [
        "data_0 = data\n",
        "data_0['Crime Type'] = data_0['Crm Cd'].apply(categorise_crimes_against_people)\n",
        "data_0 = data_0.dropna()\n",
        "data_0.head()"
      ],
      "execution_count": 27,
      "outputs": [
        {
          "output_type": "execute_result",
          "data": {
            "text/html": [
              "<div>\n",
              "<style scoped>\n",
              "    .dataframe tbody tr th:only-of-type {\n",
              "        vertical-align: middle;\n",
              "    }\n",
              "\n",
              "    .dataframe tbody tr th {\n",
              "        vertical-align: top;\n",
              "    }\n",
              "\n",
              "    .dataframe thead th {\n",
              "        text-align: right;\n",
              "    }\n",
              "</style>\n",
              "<table border=\"1\" class=\"dataframe\">\n",
              "  <thead>\n",
              "    <tr style=\"text-align: right;\">\n",
              "      <th></th>\n",
              "      <th>TIME OCC</th>\n",
              "      <th>AREA NAME</th>\n",
              "      <th>Rpt Dist No</th>\n",
              "      <th>Crm Cd</th>\n",
              "      <th>Vict Age</th>\n",
              "      <th>Vict Sex</th>\n",
              "      <th>Vict Descent</th>\n",
              "      <th>Day</th>\n",
              "      <th>Crime Type</th>\n",
              "    </tr>\n",
              "  </thead>\n",
              "  <tbody>\n",
              "    <tr>\n",
              "      <th>2</th>\n",
              "      <td>0.762500</td>\n",
              "      <td>Pacific</td>\n",
              "      <td>1454</td>\n",
              "      <td>420</td>\n",
              "      <td>63</td>\n",
              "      <td>M</td>\n",
              "      <td>H</td>\n",
              "      <td>2</td>\n",
              "      <td>6.0</td>\n",
              "    </tr>\n",
              "    <tr>\n",
              "      <th>19</th>\n",
              "      <td>0.554167</td>\n",
              "      <td>Central</td>\n",
              "      <td>152</td>\n",
              "      <td>210</td>\n",
              "      <td>66</td>\n",
              "      <td>M</td>\n",
              "      <td>B</td>\n",
              "      <td>2</td>\n",
              "      <td>0.0</td>\n",
              "    </tr>\n",
              "    <tr>\n",
              "      <th>24</th>\n",
              "      <td>0.291667</td>\n",
              "      <td>Central</td>\n",
              "      <td>166</td>\n",
              "      <td>230</td>\n",
              "      <td>62</td>\n",
              "      <td>M</td>\n",
              "      <td>A</td>\n",
              "      <td>3</td>\n",
              "      <td>2.0</td>\n",
              "    </tr>\n",
              "    <tr>\n",
              "      <th>28</th>\n",
              "      <td>0.833333</td>\n",
              "      <td>Central</td>\n",
              "      <td>111</td>\n",
              "      <td>230</td>\n",
              "      <td>71</td>\n",
              "      <td>M</td>\n",
              "      <td>W</td>\n",
              "      <td>0</td>\n",
              "      <td>2.0</td>\n",
              "    </tr>\n",
              "    <tr>\n",
              "      <th>31</th>\n",
              "      <td>0.250000</td>\n",
              "      <td>Central</td>\n",
              "      <td>111</td>\n",
              "      <td>310</td>\n",
              "      <td>51</td>\n",
              "      <td>M</td>\n",
              "      <td>W</td>\n",
              "      <td>4</td>\n",
              "      <td>4.0</td>\n",
              "    </tr>\n",
              "  </tbody>\n",
              "</table>\n",
              "</div>"
            ],
            "text/plain": [
              "    TIME OCC AREA NAME  Rpt Dist No  ...  Vict Descent  Day Crime Type\n",
              "2   0.762500   Pacific         1454  ...             H    2        6.0\n",
              "19  0.554167   Central          152  ...             B    2        0.0\n",
              "24  0.291667   Central          166  ...             A    3        2.0\n",
              "28  0.833333   Central          111  ...             W    0        2.0\n",
              "31  0.250000   Central          111  ...             W    4        4.0\n",
              "\n",
              "[5 rows x 9 columns]"
            ]
          },
          "metadata": {},
          "execution_count": 27
        }
      ]
    },
    {
      "cell_type": "code",
      "metadata": {
        "colab": {
          "base_uri": "https://localhost:8080/"
        },
        "id": "h6R1eDcHlbUv",
        "outputId": "3606da54-3a71-4324-b266-f277eadce6d6"
      },
      "source": [
        "len(data_0)"
      ],
      "execution_count": 28,
      "outputs": [
        {
          "output_type": "execute_result",
          "data": {
            "text/plain": [
              "643105"
            ]
          },
          "metadata": {},
          "execution_count": 28
        }
      ]
    },
    {
      "cell_type": "code",
      "metadata": {
        "id": "80CzIEW_yOVD"
      },
      "source": [
        "data_0 = data_0.drop(columns=['Crm Cd'])"
      ],
      "execution_count": 29,
      "outputs": []
    },
    {
      "cell_type": "markdown",
      "metadata": {
        "id": "BebGsGmhtaoM"
      },
      "source": [
        "NEURAL NETWORK APPROACH"
      ]
    },
    {
      "cell_type": "markdown",
      "metadata": {
        "id": "ktiXctUCdqaP"
      },
      "source": [
        "Crime Against the Person"
      ]
    },
    {
      "cell_type": "code",
      "metadata": {
        "colab": {
          "base_uri": "https://localhost:8080/",
          "height": 206
        },
        "id": "PRHggp-wdusi",
        "outputId": "fa6493df-b1b4-4c3e-bfb7-8ae1bfe4ec80"
      },
      "source": [
        "data_0.head()"
      ],
      "execution_count": 30,
      "outputs": [
        {
          "output_type": "execute_result",
          "data": {
            "text/html": [
              "<div>\n",
              "<style scoped>\n",
              "    .dataframe tbody tr th:only-of-type {\n",
              "        vertical-align: middle;\n",
              "    }\n",
              "\n",
              "    .dataframe tbody tr th {\n",
              "        vertical-align: top;\n",
              "    }\n",
              "\n",
              "    .dataframe thead th {\n",
              "        text-align: right;\n",
              "    }\n",
              "</style>\n",
              "<table border=\"1\" class=\"dataframe\">\n",
              "  <thead>\n",
              "    <tr style=\"text-align: right;\">\n",
              "      <th></th>\n",
              "      <th>TIME OCC</th>\n",
              "      <th>AREA NAME</th>\n",
              "      <th>Rpt Dist No</th>\n",
              "      <th>Vict Age</th>\n",
              "      <th>Vict Sex</th>\n",
              "      <th>Vict Descent</th>\n",
              "      <th>Day</th>\n",
              "      <th>Crime Type</th>\n",
              "    </tr>\n",
              "  </thead>\n",
              "  <tbody>\n",
              "    <tr>\n",
              "      <th>2</th>\n",
              "      <td>0.762500</td>\n",
              "      <td>Pacific</td>\n",
              "      <td>1454</td>\n",
              "      <td>63</td>\n",
              "      <td>M</td>\n",
              "      <td>H</td>\n",
              "      <td>2</td>\n",
              "      <td>6.0</td>\n",
              "    </tr>\n",
              "    <tr>\n",
              "      <th>19</th>\n",
              "      <td>0.554167</td>\n",
              "      <td>Central</td>\n",
              "      <td>152</td>\n",
              "      <td>66</td>\n",
              "      <td>M</td>\n",
              "      <td>B</td>\n",
              "      <td>2</td>\n",
              "      <td>0.0</td>\n",
              "    </tr>\n",
              "    <tr>\n",
              "      <th>24</th>\n",
              "      <td>0.291667</td>\n",
              "      <td>Central</td>\n",
              "      <td>166</td>\n",
              "      <td>62</td>\n",
              "      <td>M</td>\n",
              "      <td>A</td>\n",
              "      <td>3</td>\n",
              "      <td>2.0</td>\n",
              "    </tr>\n",
              "    <tr>\n",
              "      <th>28</th>\n",
              "      <td>0.833333</td>\n",
              "      <td>Central</td>\n",
              "      <td>111</td>\n",
              "      <td>71</td>\n",
              "      <td>M</td>\n",
              "      <td>W</td>\n",
              "      <td>0</td>\n",
              "      <td>2.0</td>\n",
              "    </tr>\n",
              "    <tr>\n",
              "      <th>31</th>\n",
              "      <td>0.250000</td>\n",
              "      <td>Central</td>\n",
              "      <td>111</td>\n",
              "      <td>51</td>\n",
              "      <td>M</td>\n",
              "      <td>W</td>\n",
              "      <td>4</td>\n",
              "      <td>4.0</td>\n",
              "    </tr>\n",
              "  </tbody>\n",
              "</table>\n",
              "</div>"
            ],
            "text/plain": [
              "    TIME OCC AREA NAME  Rpt Dist No  ...  Vict Descent Day Crime Type\n",
              "2   0.762500   Pacific         1454  ...             H   2        6.0\n",
              "19  0.554167   Central          152  ...             B   2        0.0\n",
              "24  0.291667   Central          166  ...             A   3        2.0\n",
              "28  0.833333   Central          111  ...             W   0        2.0\n",
              "31  0.250000   Central          111  ...             W   4        4.0\n",
              "\n",
              "[5 rows x 8 columns]"
            ]
          },
          "metadata": {},
          "execution_count": 30
        }
      ]
    },
    {
      "cell_type": "code",
      "metadata": {
        "id": "22TBZloXmDgi"
      },
      "source": [
        "datann3 = data_0\n",
        "datann3 = datann3[datann3['Vict Sex'] != 'UKN']\n",
        "datann3 = datann3[datann3['Vict Descent'] != 'UKN']"
      ],
      "execution_count": 31,
      "outputs": []
    },
    {
      "cell_type": "code",
      "metadata": {
        "id": "SEhoUVY9mzOz"
      },
      "source": [
        "datann3['AREA NAME'] = datann3['AREA NAME'].astype('category')\n",
        "datann3['AREA NAME'] = datann3['AREA NAME'].cat.codes\n",
        "datann3['Vict Sex'] = datann3['Vict Sex'].map({'M':0,'F':1,'X':2,'H':3,'N':4,'UKN':5})\n",
        "datann3['Vict Descent'] = datann3['Vict Descent'].map({'H':0,'W':1,'B':2,'O':3,'X':4,'A':5,'K':6,'F':7,'C':8,'I':9,'J':10,'P':11,'V':12,'U':13,'Z':14,'G':15,'S':16,'D':17,'L':18,'-':19,'UKN':20})\n",
        "X = datann3.drop(columns=['Crime Type'])\n",
        "y = datann3['Crime Type']"
      ],
      "execution_count": 32,
      "outputs": []
    },
    {
      "cell_type": "code",
      "metadata": {
        "colab": {
          "base_uri": "https://localhost:8080/",
          "height": 206
        },
        "id": "DAeVfB-MuqJH",
        "outputId": "cf483da5-87a6-4f82-f5fc-7d4dbeecff58"
      },
      "source": [
        "datann3.head()"
      ],
      "execution_count": 33,
      "outputs": [
        {
          "output_type": "execute_result",
          "data": {
            "text/html": [
              "<div>\n",
              "<style scoped>\n",
              "    .dataframe tbody tr th:only-of-type {\n",
              "        vertical-align: middle;\n",
              "    }\n",
              "\n",
              "    .dataframe tbody tr th {\n",
              "        vertical-align: top;\n",
              "    }\n",
              "\n",
              "    .dataframe thead th {\n",
              "        text-align: right;\n",
              "    }\n",
              "</style>\n",
              "<table border=\"1\" class=\"dataframe\">\n",
              "  <thead>\n",
              "    <tr style=\"text-align: right;\">\n",
              "      <th></th>\n",
              "      <th>TIME OCC</th>\n",
              "      <th>AREA NAME</th>\n",
              "      <th>Rpt Dist No</th>\n",
              "      <th>Vict Age</th>\n",
              "      <th>Vict Sex</th>\n",
              "      <th>Vict Descent</th>\n",
              "      <th>Day</th>\n",
              "      <th>Crime Type</th>\n",
              "    </tr>\n",
              "  </thead>\n",
              "  <tbody>\n",
              "    <tr>\n",
              "      <th>2</th>\n",
              "      <td>0.762500</td>\n",
              "      <td>12</td>\n",
              "      <td>1454</td>\n",
              "      <td>63</td>\n",
              "      <td>0</td>\n",
              "      <td>0</td>\n",
              "      <td>2</td>\n",
              "      <td>6.0</td>\n",
              "    </tr>\n",
              "    <tr>\n",
              "      <th>19</th>\n",
              "      <td>0.554167</td>\n",
              "      <td>1</td>\n",
              "      <td>152</td>\n",
              "      <td>66</td>\n",
              "      <td>0</td>\n",
              "      <td>2</td>\n",
              "      <td>2</td>\n",
              "      <td>0.0</td>\n",
              "    </tr>\n",
              "    <tr>\n",
              "      <th>24</th>\n",
              "      <td>0.291667</td>\n",
              "      <td>1</td>\n",
              "      <td>166</td>\n",
              "      <td>62</td>\n",
              "      <td>0</td>\n",
              "      <td>5</td>\n",
              "      <td>3</td>\n",
              "      <td>2.0</td>\n",
              "    </tr>\n",
              "    <tr>\n",
              "      <th>28</th>\n",
              "      <td>0.833333</td>\n",
              "      <td>1</td>\n",
              "      <td>111</td>\n",
              "      <td>71</td>\n",
              "      <td>0</td>\n",
              "      <td>1</td>\n",
              "      <td>0</td>\n",
              "      <td>2.0</td>\n",
              "    </tr>\n",
              "    <tr>\n",
              "      <th>31</th>\n",
              "      <td>0.250000</td>\n",
              "      <td>1</td>\n",
              "      <td>111</td>\n",
              "      <td>51</td>\n",
              "      <td>0</td>\n",
              "      <td>1</td>\n",
              "      <td>4</td>\n",
              "      <td>4.0</td>\n",
              "    </tr>\n",
              "  </tbody>\n",
              "</table>\n",
              "</div>"
            ],
            "text/plain": [
              "    TIME OCC  AREA NAME  Rpt Dist No  ...  Vict Descent  Day  Crime Type\n",
              "2   0.762500         12         1454  ...             0    2         6.0\n",
              "19  0.554167          1          152  ...             2    2         0.0\n",
              "24  0.291667          1          166  ...             5    3         2.0\n",
              "28  0.833333          1          111  ...             1    0         2.0\n",
              "31  0.250000          1          111  ...             1    4         4.0\n",
              "\n",
              "[5 rows x 8 columns]"
            ]
          },
          "metadata": {},
          "execution_count": 33
        }
      ]
    },
    {
      "cell_type": "code",
      "metadata": {
        "colab": {
          "base_uri": "https://localhost:8080/"
        },
        "id": "0u7I6emCnd0r",
        "outputId": "542cb587-ae4a-4e3f-a5e8-a9076c718c87"
      },
      "source": [
        "X.dtypes"
      ],
      "execution_count": 34,
      "outputs": [
        {
          "output_type": "execute_result",
          "data": {
            "text/plain": [
              "TIME OCC        float64\n",
              "AREA NAME          int8\n",
              "Rpt Dist No       int64\n",
              "Vict Age          int64\n",
              "Vict Sex          int64\n",
              "Vict Descent      int64\n",
              "Day               int64\n",
              "dtype: object"
            ]
          },
          "metadata": {},
          "execution_count": 34
        }
      ]
    },
    {
      "cell_type": "code",
      "metadata": {
        "id": "VKp0ePElnVts"
      },
      "source": [
        "# apply normalization techniques\n",
        "for column in X.columns:\n",
        "    X[column] = (X[column] - X[column].min()) / (X[column].max() - X[column].min()) "
      ],
      "execution_count": 35,
      "outputs": []
    },
    {
      "cell_type": "code",
      "metadata": {
        "colab": {
          "base_uri": "https://localhost:8080/",
          "height": 206
        },
        "id": "K7GFoXeIuyV9",
        "outputId": "c70b99b8-ac5e-4701-d9f1-762f89759e73"
      },
      "source": [
        "X.head()"
      ],
      "execution_count": 36,
      "outputs": [
        {
          "output_type": "execute_result",
          "data": {
            "text/html": [
              "<div>\n",
              "<style scoped>\n",
              "    .dataframe tbody tr th:only-of-type {\n",
              "        vertical-align: middle;\n",
              "    }\n",
              "\n",
              "    .dataframe tbody tr th {\n",
              "        vertical-align: top;\n",
              "    }\n",
              "\n",
              "    .dataframe thead th {\n",
              "        text-align: right;\n",
              "    }\n",
              "</style>\n",
              "<table border=\"1\" class=\"dataframe\">\n",
              "  <thead>\n",
              "    <tr style=\"text-align: right;\">\n",
              "      <th></th>\n",
              "      <th>TIME OCC</th>\n",
              "      <th>AREA NAME</th>\n",
              "      <th>Rpt Dist No</th>\n",
              "      <th>Vict Age</th>\n",
              "      <th>Vict Sex</th>\n",
              "      <th>Vict Descent</th>\n",
              "      <th>Day</th>\n",
              "    </tr>\n",
              "  </thead>\n",
              "  <tbody>\n",
              "    <tr>\n",
              "      <th>2</th>\n",
              "      <td>0.775657</td>\n",
              "      <td>0.60</td>\n",
              "      <td>0.645069</td>\n",
              "      <td>0.657143</td>\n",
              "      <td>0.0</td>\n",
              "      <td>0.000000</td>\n",
              "      <td>0.333333</td>\n",
              "    </tr>\n",
              "    <tr>\n",
              "      <th>19</th>\n",
              "      <td>0.563613</td>\n",
              "      <td>0.05</td>\n",
              "      <td>0.024774</td>\n",
              "      <td>0.685714</td>\n",
              "      <td>0.0</td>\n",
              "      <td>0.111111</td>\n",
              "      <td>0.333333</td>\n",
              "    </tr>\n",
              "    <tr>\n",
              "      <th>24</th>\n",
              "      <td>0.296438</td>\n",
              "      <td>0.05</td>\n",
              "      <td>0.031444</td>\n",
              "      <td>0.647619</td>\n",
              "      <td>0.0</td>\n",
              "      <td>0.277778</td>\n",
              "      <td>0.500000</td>\n",
              "    </tr>\n",
              "    <tr>\n",
              "      <th>28</th>\n",
              "      <td>0.847752</td>\n",
              "      <td>0.05</td>\n",
              "      <td>0.005241</td>\n",
              "      <td>0.733333</td>\n",
              "      <td>0.0</td>\n",
              "      <td>0.055556</td>\n",
              "      <td>0.000000</td>\n",
              "    </tr>\n",
              "    <tr>\n",
              "      <th>31</th>\n",
              "      <td>0.254029</td>\n",
              "      <td>0.05</td>\n",
              "      <td>0.005241</td>\n",
              "      <td>0.542857</td>\n",
              "      <td>0.0</td>\n",
              "      <td>0.055556</td>\n",
              "      <td>0.666667</td>\n",
              "    </tr>\n",
              "  </tbody>\n",
              "</table>\n",
              "</div>"
            ],
            "text/plain": [
              "    TIME OCC  AREA NAME  Rpt Dist No  ...  Vict Sex  Vict Descent       Day\n",
              "2   0.775657       0.60     0.645069  ...       0.0      0.000000  0.333333\n",
              "19  0.563613       0.05     0.024774  ...       0.0      0.111111  0.333333\n",
              "24  0.296438       0.05     0.031444  ...       0.0      0.277778  0.500000\n",
              "28  0.847752       0.05     0.005241  ...       0.0      0.055556  0.000000\n",
              "31  0.254029       0.05     0.005241  ...       0.0      0.055556  0.666667\n",
              "\n",
              "[5 rows x 7 columns]"
            ]
          },
          "metadata": {},
          "execution_count": 36
        }
      ]
    },
    {
      "cell_type": "code",
      "metadata": {
        "colab": {
          "base_uri": "https://localhost:8080/"
        },
        "id": "EZbvNn2Su0Sd",
        "outputId": "e384be15-d61a-4133-9daf-db22388126ac"
      },
      "source": [
        "y.head()"
      ],
      "execution_count": 37,
      "outputs": [
        {
          "output_type": "execute_result",
          "data": {
            "text/plain": [
              "2     6.0\n",
              "19    0.0\n",
              "24    2.0\n",
              "28    2.0\n",
              "31    4.0\n",
              "Name: Crime Type, dtype: float64"
            ]
          },
          "metadata": {},
          "execution_count": 37
        }
      ]
    },
    {
      "cell_type": "code",
      "metadata": {
        "id": "I5-ii5fEnWru"
      },
      "source": [
        "from sklearn.model_selection import train_test_split\n",
        "\n",
        "X_train, X_test, y_train, y_test = train_test_split(X, y, test_size=0.2, random_state=1)"
      ],
      "execution_count": 38,
      "outputs": []
    },
    {
      "cell_type": "code",
      "metadata": {
        "id": "Gj5unEb7oLKp"
      },
      "source": [
        "y_test_copy = y_test\n",
        "from tensorflow.keras.utils import to_categorical\n",
        "l = len(y_train.value_counts().index)\n",
        "y_test = to_categorical(y_test,num_classes = l)\n",
        "y_train = to_categorical(y_train,num_classes = l)"
      ],
      "execution_count": 39,
      "outputs": []
    },
    {
      "cell_type": "markdown",
      "metadata": {
        "id": "-V-KFt3l3o4D"
      },
      "source": [
        "SKIP the following if you are not going to train the model but load the saved model.\n",
        "\n",
        "## TRAINING MODEL:"
      ]
    },
    {
      "cell_type": "code",
      "metadata": {
        "id": "PaAr03OXoOdB"
      },
      "source": [
        "from keras.models import Sequential\n",
        "from keras.layers import Dense, Dropout\n",
        "from keras.layers import LeakyReLU\n",
        "from tensorflow.keras.optimizers import Adam\n",
        "from tensorflow.keras.callbacks import ReduceLROnPlateau\n",
        "\n",
        "# define the  model\n",
        "model = Sequential()\n",
        "model.add(Dense(1000, input_dim=X_test.shape[1], activation=LeakyReLU(alpha=0.001)))\n",
        "model.add(Dense(600,activation=LeakyReLU()))\n",
        "model.add(Dense(175,activation=LeakyReLU()))\n",
        "model.add(Dense(50,activation=LeakyReLU()))\n",
        "model.add(Dense(l, activation='softmax'))\n",
        "# compile the keras model\n",
        "model.compile(loss='categorical_crossentropy', optimizer=Adam(learning_rate=0.01), metrics=['accuracy'])\n",
        "\n",
        "reduce_lr = ReduceLROnPlateau(monitor='loss', factor=0.3,\n",
        "                              patience=2, min_lr=0.00001)"
      ],
      "execution_count": null,
      "outputs": []
    },
    {
      "cell_type": "code",
      "metadata": {
        "colab": {
          "base_uri": "https://localhost:8080/"
        },
        "id": "IAxsEm5BoSZJ",
        "outputId": "0b24c2f8-a7c2-49ac-843c-2876e435c3e5"
      },
      "source": [
        "model.fit(X_train, y_train, epochs=300,callbacks=[reduce_lr], batch_size=200, verbose=2)"
      ],
      "execution_count": null,
      "outputs": [
        {
          "output_type": "stream",
          "name": "stdout",
          "text": [
            "Epoch 1/300\n",
            "2425/2425 - 54s - loss: 1.5735 - accuracy: 0.3660 - lr: 0.0100 - 54s/epoch - 22ms/step\n",
            "Epoch 2/300\n",
            "2425/2425 - 53s - loss: 1.5208 - accuracy: 0.3905 - lr: 0.0100 - 53s/epoch - 22ms/step\n",
            "Epoch 3/300\n",
            "2425/2425 - 53s - loss: 1.4997 - accuracy: 0.4001 - lr: 0.0100 - 53s/epoch - 22ms/step\n",
            "Epoch 4/300\n",
            "2425/2425 - 53s - loss: 1.4914 - accuracy: 0.4055 - lr: 0.0100 - 53s/epoch - 22ms/step\n",
            "Epoch 5/300\n",
            "2425/2425 - 54s - loss: 1.4852 - accuracy: 0.4095 - lr: 0.0100 - 54s/epoch - 22ms/step\n",
            "Epoch 6/300\n",
            "2425/2425 - 53s - loss: 1.4823 - accuracy: 0.4119 - lr: 0.0100 - 53s/epoch - 22ms/step\n",
            "Epoch 7/300\n",
            "2425/2425 - 53s - loss: 1.4791 - accuracy: 0.4133 - lr: 0.0100 - 53s/epoch - 22ms/step\n",
            "Epoch 8/300\n",
            "2425/2425 - 54s - loss: 1.4780 - accuracy: 0.4135 - lr: 0.0100 - 54s/epoch - 22ms/step\n",
            "Epoch 9/300\n",
            "2425/2425 - 55s - loss: 1.4763 - accuracy: 0.4157 - lr: 0.0100 - 55s/epoch - 23ms/step\n",
            "Epoch 10/300\n",
            "2425/2425 - 54s - loss: 1.4757 - accuracy: 0.4167 - lr: 0.0100 - 54s/epoch - 22ms/step\n",
            "Epoch 11/300\n",
            "2425/2425 - 53s - loss: 1.4739 - accuracy: 0.4162 - lr: 0.0100 - 53s/epoch - 22ms/step\n",
            "Epoch 12/300\n",
            "2425/2425 - 53s - loss: 1.4736 - accuracy: 0.4167 - lr: 0.0100 - 53s/epoch - 22ms/step\n",
            "Epoch 13/300\n",
            "2425/2425 - 53s - loss: 1.4724 - accuracy: 0.4181 - lr: 0.0100 - 53s/epoch - 22ms/step\n",
            "Epoch 14/300\n",
            "2425/2425 - 53s - loss: 1.4757 - accuracy: 0.4153 - lr: 0.0100 - 53s/epoch - 22ms/step\n",
            "Epoch 15/300\n",
            "2425/2425 - 53s - loss: 1.4752 - accuracy: 0.4158 - lr: 0.0100 - 53s/epoch - 22ms/step\n",
            "Epoch 16/300\n",
            "2425/2425 - 53s - loss: 1.4462 - accuracy: 0.4297 - lr: 0.0030 - 53s/epoch - 22ms/step\n",
            "Epoch 17/300\n",
            "2425/2425 - 52s - loss: 1.4445 - accuracy: 0.4316 - lr: 0.0030 - 52s/epoch - 22ms/step\n",
            "Epoch 18/300\n",
            "2425/2425 - 53s - loss: 1.4437 - accuracy: 0.4312 - lr: 0.0030 - 53s/epoch - 22ms/step\n",
            "Epoch 19/300\n",
            "2425/2425 - 53s - loss: 1.4426 - accuracy: 0.4321 - lr: 0.0030 - 53s/epoch - 22ms/step\n",
            "Epoch 20/300\n",
            "2425/2425 - 53s - loss: 1.4419 - accuracy: 0.4319 - lr: 0.0030 - 53s/epoch - 22ms/step\n",
            "Epoch 21/300\n",
            "2425/2425 - 53s - loss: 1.4414 - accuracy: 0.4327 - lr: 0.0030 - 53s/epoch - 22ms/step\n",
            "Epoch 22/300\n",
            "2425/2425 - 53s - loss: 1.4407 - accuracy: 0.4332 - lr: 0.0030 - 53s/epoch - 22ms/step\n",
            "Epoch 23/300\n",
            "2425/2425 - 53s - loss: 1.4407 - accuracy: 0.4331 - lr: 0.0030 - 53s/epoch - 22ms/step\n",
            "Epoch 24/300\n",
            "2425/2425 - 53s - loss: 1.4405 - accuracy: 0.4332 - lr: 0.0030 - 53s/epoch - 22ms/step\n",
            "Epoch 25/300\n",
            "2425/2425 - 53s - loss: 1.4395 - accuracy: 0.4334 - lr: 0.0030 - 53s/epoch - 22ms/step\n",
            "Epoch 26/300\n",
            "2425/2425 - 53s - loss: 1.4397 - accuracy: 0.4335 - lr: 0.0030 - 53s/epoch - 22ms/step\n",
            "Epoch 27/300\n",
            "2425/2425 - 53s - loss: 1.4392 - accuracy: 0.4336 - lr: 0.0030 - 53s/epoch - 22ms/step\n",
            "Epoch 28/300\n",
            "2425/2425 - 53s - loss: 1.4392 - accuracy: 0.4341 - lr: 0.0030 - 53s/epoch - 22ms/step\n",
            "Epoch 29/300\n",
            "2425/2425 - 53s - loss: 1.4383 - accuracy: 0.4344 - lr: 0.0030 - 53s/epoch - 22ms/step\n",
            "Epoch 30/300\n",
            "2425/2425 - 53s - loss: 1.4377 - accuracy: 0.4344 - lr: 0.0030 - 53s/epoch - 22ms/step\n",
            "Epoch 31/300\n",
            "2425/2425 - 52s - loss: 1.4376 - accuracy: 0.4349 - lr: 0.0030 - 52s/epoch - 22ms/step\n",
            "Epoch 32/300\n",
            "2425/2425 - 52s - loss: 1.4371 - accuracy: 0.4351 - lr: 0.0030 - 52s/epoch - 22ms/step\n",
            "Epoch 33/300\n",
            "2425/2425 - 53s - loss: 1.4369 - accuracy: 0.4351 - lr: 0.0030 - 53s/epoch - 22ms/step\n",
            "Epoch 34/300\n",
            "2425/2425 - 53s - loss: 1.4370 - accuracy: 0.4346 - lr: 0.0030 - 53s/epoch - 22ms/step\n",
            "Epoch 35/300\n",
            "2425/2425 - 53s - loss: 1.4362 - accuracy: 0.4354 - lr: 0.0030 - 53s/epoch - 22ms/step\n",
            "Epoch 36/300\n",
            "2425/2425 - 53s - loss: 1.4363 - accuracy: 0.4358 - lr: 0.0030 - 53s/epoch - 22ms/step\n",
            "Epoch 37/300\n",
            "2425/2425 - 53s - loss: 1.4358 - accuracy: 0.4358 - lr: 0.0030 - 53s/epoch - 22ms/step\n",
            "Epoch 38/300\n",
            "2425/2425 - 53s - loss: 1.4355 - accuracy: 0.4359 - lr: 0.0030 - 53s/epoch - 22ms/step\n",
            "Epoch 39/300\n",
            "2425/2425 - 52s - loss: 1.4350 - accuracy: 0.4358 - lr: 0.0030 - 52s/epoch - 22ms/step\n",
            "Epoch 40/300\n",
            "2425/2425 - 53s - loss: 1.4347 - accuracy: 0.4359 - lr: 0.0030 - 53s/epoch - 22ms/step\n",
            "Epoch 41/300\n",
            "2425/2425 - 53s - loss: 1.4346 - accuracy: 0.4365 - lr: 0.0030 - 53s/epoch - 22ms/step\n",
            "Epoch 42/300\n",
            "2425/2425 - 53s - loss: 1.4346 - accuracy: 0.4361 - lr: 0.0030 - 53s/epoch - 22ms/step\n",
            "Epoch 43/300\n",
            "2425/2425 - 52s - loss: 1.4345 - accuracy: 0.4367 - lr: 0.0030 - 52s/epoch - 22ms/step\n",
            "Epoch 44/300\n",
            "2425/2425 - 52s - loss: 1.4234 - accuracy: 0.4416 - lr: 9.0000e-04 - 52s/epoch - 22ms/step\n",
            "Epoch 45/300\n",
            "2425/2425 - 52s - loss: 1.4226 - accuracy: 0.4420 - lr: 9.0000e-04 - 52s/epoch - 22ms/step\n",
            "Epoch 46/300\n",
            "2425/2425 - 52s - loss: 1.4219 - accuracy: 0.4427 - lr: 9.0000e-04 - 52s/epoch - 22ms/step\n",
            "Epoch 47/300\n",
            "2425/2425 - 52s - loss: 1.4217 - accuracy: 0.4423 - lr: 9.0000e-04 - 52s/epoch - 22ms/step\n",
            "Epoch 48/300\n",
            "2425/2425 - 53s - loss: 1.4210 - accuracy: 0.4425 - lr: 9.0000e-04 - 53s/epoch - 22ms/step\n",
            "Epoch 49/300\n",
            "2425/2425 - 53s - loss: 1.4206 - accuracy: 0.4430 - lr: 9.0000e-04 - 53s/epoch - 22ms/step\n",
            "Epoch 50/300\n",
            "2425/2425 - 52s - loss: 1.4202 - accuracy: 0.4431 - lr: 9.0000e-04 - 52s/epoch - 22ms/step\n",
            "Epoch 51/300\n",
            "2425/2425 - 53s - loss: 1.4200 - accuracy: 0.4429 - lr: 9.0000e-04 - 53s/epoch - 22ms/step\n",
            "Epoch 52/300\n",
            "2425/2425 - 53s - loss: 1.4195 - accuracy: 0.4436 - lr: 9.0000e-04 - 53s/epoch - 22ms/step\n",
            "Epoch 53/300\n",
            "2425/2425 - 53s - loss: 1.4190 - accuracy: 0.4438 - lr: 9.0000e-04 - 53s/epoch - 22ms/step\n",
            "Epoch 54/300\n",
            "2425/2425 - 53s - loss: 1.4185 - accuracy: 0.4441 - lr: 9.0000e-04 - 53s/epoch - 22ms/step\n",
            "Epoch 55/300\n",
            "2425/2425 - 53s - loss: 1.4180 - accuracy: 0.4439 - lr: 9.0000e-04 - 53s/epoch - 22ms/step\n",
            "Epoch 56/300\n",
            "2425/2425 - 52s - loss: 1.4176 - accuracy: 0.4436 - lr: 9.0000e-04 - 52s/epoch - 22ms/step\n",
            "Epoch 57/300\n",
            "2425/2425 - 53s - loss: 1.4172 - accuracy: 0.4441 - lr: 9.0000e-04 - 53s/epoch - 22ms/step\n",
            "Epoch 58/300\n",
            "2425/2425 - 53s - loss: 1.4167 - accuracy: 0.4438 - lr: 9.0000e-04 - 53s/epoch - 22ms/step\n",
            "Epoch 59/300\n",
            "2425/2425 - 53s - loss: 1.4162 - accuracy: 0.4441 - lr: 9.0000e-04 - 53s/epoch - 22ms/step\n",
            "Epoch 60/300\n",
            "2425/2425 - 53s - loss: 1.4159 - accuracy: 0.4447 - lr: 9.0000e-04 - 53s/epoch - 22ms/step\n",
            "Epoch 61/300\n",
            "2425/2425 - 52s - loss: 1.4155 - accuracy: 0.4450 - lr: 9.0000e-04 - 52s/epoch - 22ms/step\n",
            "Epoch 62/300\n",
            "2425/2425 - 52s - loss: 1.4150 - accuracy: 0.4450 - lr: 9.0000e-04 - 52s/epoch - 21ms/step\n",
            "Epoch 63/300\n",
            "2425/2425 - 52s - loss: 1.4146 - accuracy: 0.4450 - lr: 9.0000e-04 - 52s/epoch - 22ms/step\n",
            "Epoch 64/300\n",
            "2425/2425 - 52s - loss: 1.4141 - accuracy: 0.4455 - lr: 9.0000e-04 - 52s/epoch - 22ms/step\n",
            "Epoch 65/300\n",
            "2425/2425 - 53s - loss: 1.4135 - accuracy: 0.4455 - lr: 9.0000e-04 - 53s/epoch - 22ms/step\n",
            "Epoch 66/300\n",
            "2425/2425 - 53s - loss: 1.4133 - accuracy: 0.4455 - lr: 9.0000e-04 - 53s/epoch - 22ms/step\n",
            "Epoch 67/300\n",
            "2425/2425 - 53s - loss: 1.4127 - accuracy: 0.4459 - lr: 9.0000e-04 - 53s/epoch - 22ms/step\n",
            "Epoch 68/300\n",
            "2425/2425 - 53s - loss: 1.4122 - accuracy: 0.4459 - lr: 9.0000e-04 - 53s/epoch - 22ms/step\n",
            "Epoch 69/300\n",
            "2425/2425 - 52s - loss: 1.4117 - accuracy: 0.4468 - lr: 9.0000e-04 - 52s/epoch - 21ms/step\n",
            "Epoch 70/300\n",
            "2425/2425 - 52s - loss: 1.4115 - accuracy: 0.4465 - lr: 9.0000e-04 - 52s/epoch - 21ms/step\n",
            "Epoch 71/300\n",
            "2425/2425 - 52s - loss: 1.4108 - accuracy: 0.4468 - lr: 9.0000e-04 - 52s/epoch - 21ms/step\n",
            "Epoch 72/300\n",
            "2425/2425 - 52s - loss: 1.4104 - accuracy: 0.4474 - lr: 9.0000e-04 - 52s/epoch - 21ms/step\n",
            "Epoch 73/300\n",
            "2425/2425 - 52s - loss: 1.4100 - accuracy: 0.4473 - lr: 9.0000e-04 - 52s/epoch - 22ms/step\n",
            "Epoch 74/300\n",
            "2425/2425 - 52s - loss: 1.4094 - accuracy: 0.4472 - lr: 9.0000e-04 - 52s/epoch - 22ms/step\n",
            "Epoch 75/300\n",
            "2425/2425 - 52s - loss: 1.4092 - accuracy: 0.4473 - lr: 9.0000e-04 - 52s/epoch - 22ms/step\n",
            "Epoch 76/300\n",
            "2425/2425 - 51s - loss: 1.4085 - accuracy: 0.4475 - lr: 9.0000e-04 - 51s/epoch - 21ms/step\n",
            "Epoch 77/300\n",
            "2425/2425 - 51s - loss: 1.4080 - accuracy: 0.4476 - lr: 9.0000e-04 - 51s/epoch - 21ms/step\n",
            "Epoch 78/300\n",
            "2425/2425 - 51s - loss: 1.4076 - accuracy: 0.4485 - lr: 9.0000e-04 - 51s/epoch - 21ms/step\n",
            "Epoch 79/300\n",
            "2425/2425 - 51s - loss: 1.4073 - accuracy: 0.4486 - lr: 9.0000e-04 - 51s/epoch - 21ms/step\n",
            "Epoch 80/300\n",
            "2425/2425 - 51s - loss: 1.4069 - accuracy: 0.4480 - lr: 9.0000e-04 - 51s/epoch - 21ms/step\n",
            "Epoch 81/300\n",
            "2425/2425 - 51s - loss: 1.4064 - accuracy: 0.4487 - lr: 9.0000e-04 - 51s/epoch - 21ms/step\n",
            "Epoch 82/300\n",
            "2425/2425 - 51s - loss: 1.4058 - accuracy: 0.4492 - lr: 9.0000e-04 - 51s/epoch - 21ms/step\n",
            "Epoch 83/300\n",
            "2425/2425 - 51s - loss: 1.4054 - accuracy: 0.4493 - lr: 9.0000e-04 - 51s/epoch - 21ms/step\n",
            "Epoch 84/300\n",
            "2425/2425 - 51s - loss: 1.4050 - accuracy: 0.4498 - lr: 9.0000e-04 - 51s/epoch - 21ms/step\n",
            "Epoch 85/300\n",
            "2425/2425 - 52s - loss: 1.4047 - accuracy: 0.4499 - lr: 9.0000e-04 - 52s/epoch - 21ms/step\n",
            "Epoch 86/300\n",
            "2425/2425 - 52s - loss: 1.4040 - accuracy: 0.4495 - lr: 9.0000e-04 - 52s/epoch - 21ms/step\n",
            "Epoch 87/300\n",
            "2425/2425 - 52s - loss: 1.4034 - accuracy: 0.4491 - lr: 9.0000e-04 - 52s/epoch - 21ms/step\n",
            "Epoch 88/300\n",
            "2425/2425 - 52s - loss: 1.4033 - accuracy: 0.4498 - lr: 9.0000e-04 - 52s/epoch - 21ms/step\n",
            "Epoch 89/300\n",
            "2425/2425 - 51s - loss: 1.4026 - accuracy: 0.4503 - lr: 9.0000e-04 - 51s/epoch - 21ms/step\n",
            "Epoch 90/300\n",
            "2425/2425 - 51s - loss: 1.4024 - accuracy: 0.4503 - lr: 9.0000e-04 - 51s/epoch - 21ms/step\n",
            "Epoch 91/300\n",
            "2425/2425 - 51s - loss: 1.4014 - accuracy: 0.4509 - lr: 9.0000e-04 - 51s/epoch - 21ms/step\n",
            "Epoch 92/300\n",
            "2425/2425 - 51s - loss: 1.4015 - accuracy: 0.4507 - lr: 9.0000e-04 - 51s/epoch - 21ms/step\n",
            "Epoch 93/300\n",
            "2425/2425 - 51s - loss: 1.4006 - accuracy: 0.4511 - lr: 9.0000e-04 - 51s/epoch - 21ms/step\n",
            "Epoch 94/300\n",
            "2425/2425 - 52s - loss: 1.4006 - accuracy: 0.4511 - lr: 9.0000e-04 - 52s/epoch - 21ms/step\n",
            "Epoch 95/300\n",
            "2425/2425 - 52s - loss: 1.4000 - accuracy: 0.4515 - lr: 9.0000e-04 - 52s/epoch - 21ms/step\n",
            "Epoch 96/300\n",
            "2425/2425 - 52s - loss: 1.3993 - accuracy: 0.4516 - lr: 9.0000e-04 - 52s/epoch - 21ms/step\n",
            "Epoch 97/300\n",
            "2425/2425 - 51s - loss: 1.3991 - accuracy: 0.4519 - lr: 9.0000e-04 - 51s/epoch - 21ms/step\n",
            "Epoch 98/300\n",
            "2425/2425 - 51s - loss: 1.3984 - accuracy: 0.4525 - lr: 9.0000e-04 - 51s/epoch - 21ms/step\n",
            "Epoch 99/300\n",
            "2425/2425 - 52s - loss: 1.3982 - accuracy: 0.4525 - lr: 9.0000e-04 - 52s/epoch - 21ms/step\n",
            "Epoch 100/300\n",
            "2425/2425 - 51s - loss: 1.3978 - accuracy: 0.4520 - lr: 9.0000e-04 - 51s/epoch - 21ms/step\n",
            "Epoch 101/300\n",
            "2425/2425 - 51s - loss: 1.3972 - accuracy: 0.4526 - lr: 9.0000e-04 - 51s/epoch - 21ms/step\n",
            "Epoch 102/300\n",
            "2425/2425 - 52s - loss: 1.3968 - accuracy: 0.4529 - lr: 9.0000e-04 - 52s/epoch - 21ms/step\n",
            "Epoch 103/300\n",
            "2425/2425 - 52s - loss: 1.3962 - accuracy: 0.4529 - lr: 9.0000e-04 - 52s/epoch - 21ms/step\n",
            "Epoch 104/300\n",
            "2425/2425 - 51s - loss: 1.3956 - accuracy: 0.4533 - lr: 9.0000e-04 - 51s/epoch - 21ms/step\n",
            "Epoch 105/300\n",
            "2425/2425 - 51s - loss: 1.3953 - accuracy: 0.4531 - lr: 9.0000e-04 - 51s/epoch - 21ms/step\n",
            "Epoch 106/300\n",
            "2425/2425 - 51s - loss: 1.3946 - accuracy: 0.4537 - lr: 9.0000e-04 - 51s/epoch - 21ms/step\n",
            "Epoch 107/300\n",
            "2425/2425 - 51s - loss: 1.3944 - accuracy: 0.4533 - lr: 9.0000e-04 - 51s/epoch - 21ms/step\n",
            "Epoch 108/300\n",
            "2425/2425 - 51s - loss: 1.3940 - accuracy: 0.4539 - lr: 9.0000e-04 - 51s/epoch - 21ms/step\n",
            "Epoch 109/300\n",
            "2425/2425 - 51s - loss: 1.3936 - accuracy: 0.4540 - lr: 9.0000e-04 - 51s/epoch - 21ms/step\n",
            "Epoch 110/300\n",
            "2425/2425 - 51s - loss: 1.3931 - accuracy: 0.4544 - lr: 9.0000e-04 - 51s/epoch - 21ms/step\n",
            "Epoch 111/300\n",
            "2425/2425 - 51s - loss: 1.3928 - accuracy: 0.4545 - lr: 9.0000e-04 - 51s/epoch - 21ms/step\n",
            "Epoch 112/300\n",
            "2425/2425 - 51s - loss: 1.3921 - accuracy: 0.4548 - lr: 9.0000e-04 - 51s/epoch - 21ms/step\n",
            "Epoch 113/300\n",
            "2425/2425 - 51s - loss: 1.3918 - accuracy: 0.4546 - lr: 9.0000e-04 - 51s/epoch - 21ms/step\n",
            "Epoch 114/300\n",
            "2425/2425 - 51s - loss: 1.3914 - accuracy: 0.4554 - lr: 9.0000e-04 - 51s/epoch - 21ms/step\n",
            "Epoch 115/300\n",
            "2425/2425 - 51s - loss: 1.3908 - accuracy: 0.4554 - lr: 9.0000e-04 - 51s/epoch - 21ms/step\n",
            "Epoch 116/300\n",
            "2425/2425 - 51s - loss: 1.3908 - accuracy: 0.4551 - lr: 9.0000e-04 - 51s/epoch - 21ms/step\n",
            "Epoch 117/300\n",
            "2425/2425 - 51s - loss: 1.3900 - accuracy: 0.4557 - lr: 9.0000e-04 - 51s/epoch - 21ms/step\n",
            "Epoch 118/300\n",
            "2425/2425 - 51s - loss: 1.3897 - accuracy: 0.4554 - lr: 9.0000e-04 - 51s/epoch - 21ms/step\n",
            "Epoch 119/300\n",
            "2425/2425 - 51s - loss: 1.3892 - accuracy: 0.4562 - lr: 9.0000e-04 - 51s/epoch - 21ms/step\n",
            "Epoch 120/300\n",
            "2425/2425 - 51s - loss: 1.3886 - accuracy: 0.4559 - lr: 9.0000e-04 - 51s/epoch - 21ms/step\n",
            "Epoch 121/300\n",
            "2425/2425 - 51s - loss: 1.3880 - accuracy: 0.4564 - lr: 9.0000e-04 - 51s/epoch - 21ms/step\n",
            "Epoch 122/300\n",
            "2425/2425 - 51s - loss: 1.3877 - accuracy: 0.4562 - lr: 9.0000e-04 - 51s/epoch - 21ms/step\n",
            "Epoch 123/300\n",
            "2425/2425 - 51s - loss: 1.3872 - accuracy: 0.4565 - lr: 9.0000e-04 - 51s/epoch - 21ms/step\n",
            "Epoch 124/300\n",
            "2425/2425 - 51s - loss: 1.3867 - accuracy: 0.4570 - lr: 9.0000e-04 - 51s/epoch - 21ms/step\n",
            "Epoch 125/300\n",
            "2425/2425 - 51s - loss: 1.3865 - accuracy: 0.4574 - lr: 9.0000e-04 - 51s/epoch - 21ms/step\n",
            "Epoch 126/300\n",
            "2425/2425 - 51s - loss: 1.3858 - accuracy: 0.4571 - lr: 9.0000e-04 - 51s/epoch - 21ms/step\n",
            "Epoch 127/300\n",
            "2425/2425 - 51s - loss: 1.3852 - accuracy: 0.4576 - lr: 9.0000e-04 - 51s/epoch - 21ms/step\n",
            "Epoch 128/300\n",
            "2425/2425 - 51s - loss: 1.3849 - accuracy: 0.4574 - lr: 9.0000e-04 - 51s/epoch - 21ms/step\n",
            "Epoch 129/300\n",
            "2425/2425 - 51s - loss: 1.3847 - accuracy: 0.4574 - lr: 9.0000e-04 - 51s/epoch - 21ms/step\n",
            "Epoch 130/300\n",
            "2425/2425 - 51s - loss: 1.3836 - accuracy: 0.4581 - lr: 9.0000e-04 - 51s/epoch - 21ms/step\n",
            "Epoch 131/300\n",
            "2425/2425 - 51s - loss: 1.3836 - accuracy: 0.4584 - lr: 9.0000e-04 - 51s/epoch - 21ms/step\n",
            "Epoch 132/300\n",
            "2425/2425 - 51s - loss: 1.3830 - accuracy: 0.4581 - lr: 9.0000e-04 - 51s/epoch - 21ms/step\n",
            "Epoch 133/300\n",
            "2425/2425 - 51s - loss: 1.3825 - accuracy: 0.4585 - lr: 9.0000e-04 - 51s/epoch - 21ms/step\n",
            "Epoch 134/300\n",
            "2425/2425 - 51s - loss: 1.3822 - accuracy: 0.4590 - lr: 9.0000e-04 - 51s/epoch - 21ms/step\n",
            "Epoch 135/300\n",
            "2425/2425 - 51s - loss: 1.3819 - accuracy: 0.4585 - lr: 9.0000e-04 - 51s/epoch - 21ms/step\n",
            "Epoch 136/300\n",
            "2425/2425 - 51s - loss: 1.3814 - accuracy: 0.4591 - lr: 9.0000e-04 - 51s/epoch - 21ms/step\n",
            "Epoch 137/300\n",
            "2425/2425 - 51s - loss: 1.3808 - accuracy: 0.4589 - lr: 9.0000e-04 - 51s/epoch - 21ms/step\n",
            "Epoch 138/300\n",
            "2425/2425 - 51s - loss: 1.3804 - accuracy: 0.4594 - lr: 9.0000e-04 - 51s/epoch - 21ms/step\n",
            "Epoch 139/300\n",
            "2425/2425 - 51s - loss: 1.3801 - accuracy: 0.4595 - lr: 9.0000e-04 - 51s/epoch - 21ms/step\n",
            "Epoch 140/300\n",
            "2425/2425 - 51s - loss: 1.3798 - accuracy: 0.4597 - lr: 9.0000e-04 - 51s/epoch - 21ms/step\n",
            "Epoch 141/300\n",
            "2425/2425 - 51s - loss: 1.3793 - accuracy: 0.4600 - lr: 9.0000e-04 - 51s/epoch - 21ms/step\n",
            "Epoch 142/300\n",
            "2425/2425 - 51s - loss: 1.3788 - accuracy: 0.4601 - lr: 9.0000e-04 - 51s/epoch - 21ms/step\n",
            "Epoch 143/300\n",
            "2425/2425 - 51s - loss: 1.3784 - accuracy: 0.4603 - lr: 9.0000e-04 - 51s/epoch - 21ms/step\n",
            "Epoch 144/300\n",
            "2425/2425 - 51s - loss: 1.3779 - accuracy: 0.4603 - lr: 9.0000e-04 - 51s/epoch - 21ms/step\n",
            "Epoch 145/300\n",
            "2425/2425 - 51s - loss: 1.3774 - accuracy: 0.4609 - lr: 9.0000e-04 - 51s/epoch - 21ms/step\n",
            "Epoch 146/300\n",
            "2425/2425 - 51s - loss: 1.3771 - accuracy: 0.4604 - lr: 9.0000e-04 - 51s/epoch - 21ms/step\n",
            "Epoch 147/300\n",
            "2425/2425 - 51s - loss: 1.3766 - accuracy: 0.4609 - lr: 9.0000e-04 - 51s/epoch - 21ms/step\n",
            "Epoch 148/300\n",
            "2425/2425 - 51s - loss: 1.3764 - accuracy: 0.4610 - lr: 9.0000e-04 - 51s/epoch - 21ms/step\n",
            "Epoch 149/300\n",
            "2425/2425 - 51s - loss: 1.3758 - accuracy: 0.4613 - lr: 9.0000e-04 - 51s/epoch - 21ms/step\n",
            "Epoch 150/300\n",
            "2425/2425 - 51s - loss: 1.3753 - accuracy: 0.4620 - lr: 9.0000e-04 - 51s/epoch - 21ms/step\n",
            "Epoch 151/300\n",
            "2425/2425 - 51s - loss: 1.3750 - accuracy: 0.4615 - lr: 9.0000e-04 - 51s/epoch - 21ms/step\n",
            "Epoch 152/300\n",
            "2425/2425 - 51s - loss: 1.3741 - accuracy: 0.4621 - lr: 9.0000e-04 - 51s/epoch - 21ms/step\n",
            "Epoch 153/300\n",
            "2425/2425 - 51s - loss: 1.3740 - accuracy: 0.4621 - lr: 9.0000e-04 - 51s/epoch - 21ms/step\n",
            "Epoch 154/300\n",
            "2425/2425 - 51s - loss: 1.3734 - accuracy: 0.4617 - lr: 9.0000e-04 - 51s/epoch - 21ms/step\n",
            "Epoch 155/300\n",
            "2425/2425 - 51s - loss: 1.3729 - accuracy: 0.4626 - lr: 9.0000e-04 - 51s/epoch - 21ms/step\n",
            "Epoch 156/300\n",
            "2425/2425 - 51s - loss: 1.3725 - accuracy: 0.4622 - lr: 9.0000e-04 - 51s/epoch - 21ms/step\n",
            "Epoch 157/300\n",
            "2425/2425 - 51s - loss: 1.3717 - accuracy: 0.4626 - lr: 9.0000e-04 - 51s/epoch - 21ms/step\n",
            "Epoch 158/300\n",
            "2425/2425 - 51s - loss: 1.3715 - accuracy: 0.4633 - lr: 9.0000e-04 - 51s/epoch - 21ms/step\n",
            "Epoch 159/300\n",
            "2425/2425 - 50s - loss: 1.3717 - accuracy: 0.4629 - lr: 9.0000e-04 - 50s/epoch - 21ms/step\n",
            "Epoch 160/300\n",
            "2425/2425 - 50s - loss: 1.3707 - accuracy: 0.4632 - lr: 9.0000e-04 - 50s/epoch - 21ms/step\n",
            "Epoch 161/300\n",
            "2425/2425 - 50s - loss: 1.3707 - accuracy: 0.4638 - lr: 9.0000e-04 - 50s/epoch - 21ms/step\n",
            "Epoch 162/300\n",
            "2425/2425 - 51s - loss: 1.3699 - accuracy: 0.4633 - lr: 9.0000e-04 - 51s/epoch - 21ms/step\n",
            "Epoch 163/300\n",
            "2425/2425 - 51s - loss: 1.3700 - accuracy: 0.4632 - lr: 9.0000e-04 - 51s/epoch - 21ms/step\n",
            "Epoch 164/300\n",
            "2425/2425 - 51s - loss: 1.3694 - accuracy: 0.4636 - lr: 9.0000e-04 - 51s/epoch - 21ms/step\n",
            "Epoch 165/300\n",
            "2425/2425 - 51s - loss: 1.3688 - accuracy: 0.4643 - lr: 9.0000e-04 - 51s/epoch - 21ms/step\n",
            "Epoch 166/300\n",
            "2425/2425 - 51s - loss: 1.3683 - accuracy: 0.4646 - lr: 9.0000e-04 - 51s/epoch - 21ms/step\n",
            "Epoch 167/300\n",
            "2425/2425 - 51s - loss: 1.3680 - accuracy: 0.4644 - lr: 9.0000e-04 - 51s/epoch - 21ms/step\n",
            "Epoch 168/300\n",
            "2425/2425 - 51s - loss: 1.3677 - accuracy: 0.4641 - lr: 9.0000e-04 - 51s/epoch - 21ms/step\n",
            "Epoch 169/300\n",
            "2425/2425 - 51s - loss: 1.3673 - accuracy: 0.4643 - lr: 9.0000e-04 - 51s/epoch - 21ms/step\n",
            "Epoch 170/300\n",
            "2425/2425 - 51s - loss: 1.3668 - accuracy: 0.4647 - lr: 9.0000e-04 - 51s/epoch - 21ms/step\n",
            "Epoch 171/300\n",
            "2425/2425 - 51s - loss: 1.3667 - accuracy: 0.4649 - lr: 9.0000e-04 - 51s/epoch - 21ms/step\n",
            "Epoch 172/300\n",
            "2425/2425 - 51s - loss: 1.3659 - accuracy: 0.4652 - lr: 9.0000e-04 - 51s/epoch - 21ms/step\n",
            "Epoch 173/300\n",
            "2425/2425 - 51s - loss: 1.3657 - accuracy: 0.4653 - lr: 9.0000e-04 - 51s/epoch - 21ms/step\n",
            "Epoch 174/300\n",
            "2425/2425 - 51s - loss: 1.3649 - accuracy: 0.4654 - lr: 9.0000e-04 - 51s/epoch - 21ms/step\n",
            "Epoch 175/300\n",
            "2425/2425 - 51s - loss: 1.3646 - accuracy: 0.4655 - lr: 9.0000e-04 - 51s/epoch - 21ms/step\n",
            "Epoch 176/300\n",
            "2425/2425 - 51s - loss: 1.3644 - accuracy: 0.4659 - lr: 9.0000e-04 - 51s/epoch - 21ms/step\n",
            "Epoch 177/300\n",
            "2425/2425 - 51s - loss: 1.3637 - accuracy: 0.4661 - lr: 9.0000e-04 - 51s/epoch - 21ms/step\n",
            "Epoch 178/300\n",
            "2425/2425 - 51s - loss: 1.3634 - accuracy: 0.4655 - lr: 9.0000e-04 - 51s/epoch - 21ms/step\n",
            "Epoch 179/300\n",
            "2425/2425 - 50s - loss: 1.3629 - accuracy: 0.4661 - lr: 9.0000e-04 - 50s/epoch - 21ms/step\n",
            "Epoch 180/300\n",
            "2425/2425 - 51s - loss: 1.3628 - accuracy: 0.4655 - lr: 9.0000e-04 - 51s/epoch - 21ms/step\n",
            "Epoch 181/300\n",
            "2425/2425 - 51s - loss: 1.3622 - accuracy: 0.4662 - lr: 9.0000e-04 - 51s/epoch - 21ms/step\n",
            "Epoch 182/300\n",
            "2425/2425 - 51s - loss: 1.3616 - accuracy: 0.4670 - lr: 9.0000e-04 - 51s/epoch - 21ms/step\n",
            "Epoch 183/300\n",
            "2425/2425 - 51s - loss: 1.3610 - accuracy: 0.4669 - lr: 9.0000e-04 - 51s/epoch - 21ms/step\n",
            "Epoch 184/300\n",
            "2425/2425 - 51s - loss: 1.3610 - accuracy: 0.4667 - lr: 9.0000e-04 - 51s/epoch - 21ms/step\n",
            "Epoch 185/300\n",
            "2425/2425 - 51s - loss: 1.3603 - accuracy: 0.4672 - lr: 9.0000e-04 - 51s/epoch - 21ms/step\n",
            "Epoch 186/300\n",
            "2425/2425 - 51s - loss: 1.3601 - accuracy: 0.4669 - lr: 9.0000e-04 - 51s/epoch - 21ms/step\n",
            "Epoch 187/300\n",
            "2425/2425 - 50s - loss: 1.3598 - accuracy: 0.4678 - lr: 9.0000e-04 - 50s/epoch - 21ms/step\n",
            "Epoch 188/300\n",
            "2425/2425 - 50s - loss: 1.3592 - accuracy: 0.4677 - lr: 9.0000e-04 - 50s/epoch - 21ms/step\n",
            "Epoch 189/300\n",
            "2425/2425 - 51s - loss: 1.3586 - accuracy: 0.4678 - lr: 9.0000e-04 - 51s/epoch - 21ms/step\n",
            "Epoch 190/300\n",
            "2425/2425 - 50s - loss: 1.3584 - accuracy: 0.4683 - lr: 9.0000e-04 - 50s/epoch - 21ms/step\n",
            "Epoch 191/300\n",
            "2425/2425 - 50s - loss: 1.3578 - accuracy: 0.4682 - lr: 9.0000e-04 - 50s/epoch - 21ms/step\n",
            "Epoch 192/300\n",
            "2425/2425 - 50s - loss: 1.3573 - accuracy: 0.4685 - lr: 9.0000e-04 - 50s/epoch - 21ms/step\n",
            "Epoch 193/300\n",
            "2425/2425 - 50s - loss: 1.3572 - accuracy: 0.4687 - lr: 9.0000e-04 - 50s/epoch - 21ms/step\n",
            "Epoch 194/300\n",
            "2425/2425 - 50s - loss: 1.3568 - accuracy: 0.4688 - lr: 9.0000e-04 - 50s/epoch - 21ms/step\n",
            "Epoch 195/300\n",
            "2425/2425 - 50s - loss: 1.3565 - accuracy: 0.4686 - lr: 9.0000e-04 - 50s/epoch - 21ms/step\n",
            "Epoch 196/300\n",
            "2425/2425 - 50s - loss: 1.3557 - accuracy: 0.4694 - lr: 9.0000e-04 - 50s/epoch - 21ms/step\n",
            "Epoch 197/300\n",
            "2425/2425 - 50s - loss: 1.3555 - accuracy: 0.4692 - lr: 9.0000e-04 - 50s/epoch - 21ms/step\n",
            "Epoch 198/300\n",
            "2425/2425 - 50s - loss: 1.3554 - accuracy: 0.4687 - lr: 9.0000e-04 - 50s/epoch - 21ms/step\n",
            "Epoch 199/300\n",
            "2425/2425 - 50s - loss: 1.3545 - accuracy: 0.4695 - lr: 9.0000e-04 - 50s/epoch - 21ms/step\n",
            "Epoch 200/300\n",
            "2425/2425 - 50s - loss: 1.3541 - accuracy: 0.4695 - lr: 9.0000e-04 - 50s/epoch - 21ms/step\n",
            "Epoch 201/300\n",
            "2425/2425 - 50s - loss: 1.3541 - accuracy: 0.4699 - lr: 9.0000e-04 - 50s/epoch - 21ms/step\n",
            "Epoch 202/300\n",
            "2425/2425 - 50s - loss: 1.3536 - accuracy: 0.4698 - lr: 9.0000e-04 - 50s/epoch - 21ms/step\n",
            "Epoch 203/300\n",
            "2425/2425 - 50s - loss: 1.3532 - accuracy: 0.4694 - lr: 9.0000e-04 - 50s/epoch - 21ms/step\n",
            "Epoch 204/300\n",
            "2425/2425 - 50s - loss: 1.3531 - accuracy: 0.4697 - lr: 9.0000e-04 - 50s/epoch - 21ms/step\n",
            "Epoch 205/300\n",
            "2425/2425 - 50s - loss: 1.3525 - accuracy: 0.4704 - lr: 9.0000e-04 - 50s/epoch - 21ms/step\n",
            "Epoch 206/300\n",
            "2425/2425 - 50s - loss: 1.3522 - accuracy: 0.4702 - lr: 9.0000e-04 - 50s/epoch - 21ms/step\n",
            "Epoch 207/300\n",
            "2425/2425 - 50s - loss: 1.3516 - accuracy: 0.4705 - lr: 9.0000e-04 - 50s/epoch - 21ms/step\n",
            "Epoch 208/300\n",
            "2425/2425 - 50s - loss: 1.3512 - accuracy: 0.4705 - lr: 9.0000e-04 - 50s/epoch - 21ms/step\n",
            "Epoch 209/300\n",
            "2425/2425 - 50s - loss: 1.3507 - accuracy: 0.4707 - lr: 9.0000e-04 - 50s/epoch - 21ms/step\n",
            "Epoch 210/300\n",
            "2425/2425 - 50s - loss: 1.3506 - accuracy: 0.4709 - lr: 9.0000e-04 - 50s/epoch - 21ms/step\n",
            "Epoch 211/300\n",
            "2425/2425 - 50s - loss: 1.3501 - accuracy: 0.4714 - lr: 9.0000e-04 - 50s/epoch - 21ms/step\n",
            "Epoch 212/300\n",
            "2425/2425 - 50s - loss: 1.3497 - accuracy: 0.4711 - lr: 9.0000e-04 - 50s/epoch - 21ms/step\n",
            "Epoch 213/300\n",
            "2425/2425 - 50s - loss: 1.3490 - accuracy: 0.4716 - lr: 9.0000e-04 - 50s/epoch - 21ms/step\n",
            "Epoch 214/300\n",
            "2425/2425 - 50s - loss: 1.3489 - accuracy: 0.4719 - lr: 9.0000e-04 - 50s/epoch - 21ms/step\n",
            "Epoch 215/300\n",
            "2425/2425 - 50s - loss: 1.3483 - accuracy: 0.4722 - lr: 9.0000e-04 - 50s/epoch - 21ms/step\n",
            "Epoch 216/300\n",
            "2425/2425 - 50s - loss: 1.3484 - accuracy: 0.4718 - lr: 9.0000e-04 - 50s/epoch - 21ms/step\n",
            "Epoch 217/300\n",
            "2425/2425 - 50s - loss: 1.3479 - accuracy: 0.4722 - lr: 9.0000e-04 - 50s/epoch - 21ms/step\n",
            "Epoch 218/300\n",
            "2425/2425 - 50s - loss: 1.3468 - accuracy: 0.4725 - lr: 9.0000e-04 - 50s/epoch - 21ms/step\n",
            "Epoch 219/300\n",
            "2425/2425 - 50s - loss: 1.3471 - accuracy: 0.4719 - lr: 9.0000e-04 - 50s/epoch - 21ms/step\n",
            "Epoch 220/300\n",
            "2425/2425 - 50s - loss: 1.3468 - accuracy: 0.4723 - lr: 9.0000e-04 - 50s/epoch - 21ms/step\n",
            "Epoch 221/300\n",
            "2425/2425 - 50s - loss: 1.3243 - accuracy: 0.4822 - lr: 2.7000e-04 - 50s/epoch - 21ms/step\n",
            "Epoch 222/300\n",
            "2425/2425 - 50s - loss: 1.3208 - accuracy: 0.4833 - lr: 2.7000e-04 - 50s/epoch - 21ms/step\n",
            "Epoch 223/300\n",
            "2425/2425 - 50s - loss: 1.3192 - accuracy: 0.4843 - lr: 2.7000e-04 - 50s/epoch - 21ms/step\n",
            "Epoch 224/300\n",
            "2425/2425 - 50s - loss: 1.3181 - accuracy: 0.4843 - lr: 2.7000e-04 - 50s/epoch - 21ms/step\n",
            "Epoch 225/300\n",
            "2425/2425 - 50s - loss: 1.3173 - accuracy: 0.4844 - lr: 2.7000e-04 - 50s/epoch - 21ms/step\n",
            "Epoch 226/300\n",
            "2425/2425 - 50s - loss: 1.3164 - accuracy: 0.4851 - lr: 2.7000e-04 - 50s/epoch - 21ms/step\n",
            "Epoch 227/300\n",
            "2425/2425 - 50s - loss: 1.3159 - accuracy: 0.4855 - lr: 2.7000e-04 - 50s/epoch - 21ms/step\n",
            "Epoch 228/300\n",
            "2425/2425 - 50s - loss: 1.3151 - accuracy: 0.4857 - lr: 2.7000e-04 - 50s/epoch - 21ms/step\n",
            "Epoch 229/300\n",
            "2425/2425 - 50s - loss: 1.3147 - accuracy: 0.4858 - lr: 2.7000e-04 - 50s/epoch - 21ms/step\n",
            "Epoch 230/300\n",
            "2425/2425 - 50s - loss: 1.3141 - accuracy: 0.4858 - lr: 2.7000e-04 - 50s/epoch - 21ms/step\n",
            "Epoch 231/300\n",
            "2425/2425 - 50s - loss: 1.3135 - accuracy: 0.4865 - lr: 2.7000e-04 - 50s/epoch - 21ms/step\n",
            "Epoch 232/300\n",
            "2425/2425 - 50s - loss: 1.3129 - accuracy: 0.4864 - lr: 2.7000e-04 - 50s/epoch - 21ms/step\n",
            "Epoch 233/300\n",
            "2425/2425 - 50s - loss: 1.3124 - accuracy: 0.4866 - lr: 2.7000e-04 - 50s/epoch - 21ms/step\n",
            "Epoch 234/300\n",
            "2425/2425 - 50s - loss: 1.3119 - accuracy: 0.4868 - lr: 2.7000e-04 - 50s/epoch - 21ms/step\n",
            "Epoch 235/300\n",
            "2425/2425 - 50s - loss: 1.3113 - accuracy: 0.4870 - lr: 2.7000e-04 - 50s/epoch - 21ms/step\n",
            "Epoch 236/300\n",
            "2425/2425 - 50s - loss: 1.3108 - accuracy: 0.4873 - lr: 2.7000e-04 - 50s/epoch - 21ms/step\n",
            "Epoch 237/300\n",
            "2425/2425 - 50s - loss: 1.3104 - accuracy: 0.4876 - lr: 2.7000e-04 - 50s/epoch - 21ms/step\n",
            "Epoch 238/300\n",
            "2425/2425 - 50s - loss: 1.3096 - accuracy: 0.4881 - lr: 2.7000e-04 - 50s/epoch - 21ms/step\n",
            "Epoch 239/300\n",
            "2425/2425 - 50s - loss: 1.3094 - accuracy: 0.4879 - lr: 2.7000e-04 - 50s/epoch - 21ms/step\n",
            "Epoch 240/300\n",
            "2425/2425 - 50s - loss: 1.3089 - accuracy: 0.4882 - lr: 2.7000e-04 - 50s/epoch - 21ms/step\n",
            "Epoch 241/300\n",
            "2425/2425 - 50s - loss: 1.3085 - accuracy: 0.4882 - lr: 2.7000e-04 - 50s/epoch - 21ms/step\n",
            "Epoch 242/300\n",
            "2425/2425 - 50s - loss: 1.3080 - accuracy: 0.4884 - lr: 2.7000e-04 - 50s/epoch - 21ms/step\n",
            "Epoch 243/300\n",
            "2425/2425 - 50s - loss: 1.3075 - accuracy: 0.4886 - lr: 2.7000e-04 - 50s/epoch - 21ms/step\n",
            "Epoch 244/300\n",
            "2425/2425 - 50s - loss: 1.3070 - accuracy: 0.4885 - lr: 2.7000e-04 - 50s/epoch - 21ms/step\n",
            "Epoch 245/300\n",
            "2425/2425 - 50s - loss: 1.3065 - accuracy: 0.4889 - lr: 2.7000e-04 - 50s/epoch - 21ms/step\n",
            "Epoch 246/300\n",
            "2425/2425 - 50s - loss: 1.3063 - accuracy: 0.4888 - lr: 2.7000e-04 - 50s/epoch - 21ms/step\n",
            "Epoch 247/300\n",
            "2425/2425 - 50s - loss: 1.3058 - accuracy: 0.4892 - lr: 2.7000e-04 - 50s/epoch - 21ms/step\n",
            "Epoch 248/300\n",
            "2425/2425 - 50s - loss: 1.3053 - accuracy: 0.4892 - lr: 2.7000e-04 - 50s/epoch - 21ms/step\n",
            "Epoch 249/300\n",
            "2425/2425 - 50s - loss: 1.3049 - accuracy: 0.4897 - lr: 2.7000e-04 - 50s/epoch - 21ms/step\n",
            "Epoch 250/300\n",
            "2425/2425 - 50s - loss: 1.3045 - accuracy: 0.4898 - lr: 2.7000e-04 - 50s/epoch - 21ms/step\n",
            "Epoch 251/300\n",
            "2425/2425 - 50s - loss: 1.3041 - accuracy: 0.4899 - lr: 2.7000e-04 - 50s/epoch - 21ms/step\n",
            "Epoch 252/300\n",
            "2425/2425 - 50s - loss: 1.3037 - accuracy: 0.4901 - lr: 2.7000e-04 - 50s/epoch - 21ms/step\n",
            "Epoch 253/300\n",
            "2425/2425 - 50s - loss: 1.3031 - accuracy: 0.4902 - lr: 2.7000e-04 - 50s/epoch - 21ms/step\n",
            "Epoch 254/300\n",
            "2425/2425 - 50s - loss: 1.3029 - accuracy: 0.4902 - lr: 2.7000e-04 - 50s/epoch - 21ms/step\n",
            "Epoch 255/300\n",
            "2425/2425 - 50s - loss: 1.3020 - accuracy: 0.4907 - lr: 2.7000e-04 - 50s/epoch - 21ms/step\n",
            "Epoch 256/300\n",
            "2425/2425 - 50s - loss: 1.3018 - accuracy: 0.4908 - lr: 2.7000e-04 - 50s/epoch - 21ms/step\n",
            "Epoch 257/300\n",
            "2425/2425 - 50s - loss: 1.3013 - accuracy: 0.4911 - lr: 2.7000e-04 - 50s/epoch - 21ms/step\n",
            "Epoch 258/300\n",
            "2425/2425 - 50s - loss: 1.3010 - accuracy: 0.4910 - lr: 2.7000e-04 - 50s/epoch - 21ms/step\n",
            "Epoch 259/300\n",
            "2425/2425 - 50s - loss: 1.3005 - accuracy: 0.4912 - lr: 2.7000e-04 - 50s/epoch - 21ms/step\n",
            "Epoch 260/300\n",
            "2425/2425 - 50s - loss: 1.3001 - accuracy: 0.4913 - lr: 2.7000e-04 - 50s/epoch - 20ms/step\n",
            "Epoch 261/300\n",
            "2425/2425 - 49s - loss: 1.2995 - accuracy: 0.4917 - lr: 2.7000e-04 - 49s/epoch - 20ms/step\n",
            "Epoch 262/300\n",
            "2425/2425 - 50s - loss: 1.2992 - accuracy: 0.4922 - lr: 2.7000e-04 - 50s/epoch - 20ms/step\n",
            "Epoch 263/300\n",
            "2425/2425 - 49s - loss: 1.2988 - accuracy: 0.4919 - lr: 2.7000e-04 - 49s/epoch - 20ms/step\n",
            "Epoch 264/300\n",
            "2425/2425 - 50s - loss: 1.2984 - accuracy: 0.4918 - lr: 2.7000e-04 - 50s/epoch - 20ms/step\n",
            "Epoch 265/300\n",
            "2425/2425 - 50s - loss: 1.2982 - accuracy: 0.4925 - lr: 2.7000e-04 - 50s/epoch - 20ms/step\n",
            "Epoch 266/300\n",
            "2425/2425 - 50s - loss: 1.2977 - accuracy: 0.4923 - lr: 2.7000e-04 - 50s/epoch - 20ms/step\n",
            "Epoch 267/300\n",
            "2425/2425 - 50s - loss: 1.2974 - accuracy: 0.4922 - lr: 2.7000e-04 - 50s/epoch - 20ms/step\n",
            "Epoch 268/300\n",
            "2425/2425 - 50s - loss: 1.2968 - accuracy: 0.4925 - lr: 2.7000e-04 - 50s/epoch - 21ms/step\n",
            "Epoch 269/300\n",
            "2425/2425 - 50s - loss: 1.2964 - accuracy: 0.4927 - lr: 2.7000e-04 - 50s/epoch - 21ms/step\n",
            "Epoch 270/300\n",
            "2425/2425 - 50s - loss: 1.2962 - accuracy: 0.4922 - lr: 2.7000e-04 - 50s/epoch - 20ms/step\n",
            "Epoch 271/300\n",
            "2425/2425 - 50s - loss: 1.2954 - accuracy: 0.4929 - lr: 2.7000e-04 - 50s/epoch - 21ms/step\n",
            "Epoch 272/300\n",
            "2425/2425 - 50s - loss: 1.2950 - accuracy: 0.4937 - lr: 2.7000e-04 - 50s/epoch - 21ms/step\n",
            "Epoch 273/300\n",
            "2425/2425 - 50s - loss: 1.2950 - accuracy: 0.4927 - lr: 2.7000e-04 - 50s/epoch - 21ms/step\n",
            "Epoch 274/300\n",
            "2425/2425 - 50s - loss: 1.2942 - accuracy: 0.4937 - lr: 2.7000e-04 - 50s/epoch - 21ms/step\n",
            "Epoch 275/300\n",
            "2425/2425 - 50s - loss: 1.2939 - accuracy: 0.4937 - lr: 2.7000e-04 - 50s/epoch - 20ms/step\n",
            "Epoch 276/300\n",
            "2425/2425 - 50s - loss: 1.2936 - accuracy: 0.4940 - lr: 2.7000e-04 - 50s/epoch - 20ms/step\n",
            "Epoch 277/300\n",
            "2425/2425 - 50s - loss: 1.2935 - accuracy: 0.4942 - lr: 2.7000e-04 - 50s/epoch - 20ms/step\n",
            "Epoch 278/300\n",
            "2425/2425 - 50s - loss: 1.2924 - accuracy: 0.4942 - lr: 2.7000e-04 - 50s/epoch - 21ms/step\n",
            "Epoch 279/300\n",
            "2425/2425 - 50s - loss: 1.2926 - accuracy: 0.4938 - lr: 2.7000e-04 - 50s/epoch - 21ms/step\n",
            "Epoch 280/300\n",
            "2425/2425 - 50s - loss: 1.2919 - accuracy: 0.4947 - lr: 2.7000e-04 - 50s/epoch - 20ms/step\n",
            "Epoch 281/300\n",
            "2425/2425 - 50s - loss: 1.2915 - accuracy: 0.4949 - lr: 2.7000e-04 - 50s/epoch - 21ms/step\n",
            "Epoch 282/300\n",
            "2425/2425 - 50s - loss: 1.2910 - accuracy: 0.4953 - lr: 2.7000e-04 - 50s/epoch - 21ms/step\n",
            "Epoch 283/300\n",
            "2425/2425 - 50s - loss: 1.2908 - accuracy: 0.4952 - lr: 2.7000e-04 - 50s/epoch - 20ms/step\n",
            "Epoch 284/300\n",
            "2425/2425 - 50s - loss: 1.2905 - accuracy: 0.4953 - lr: 2.7000e-04 - 50s/epoch - 21ms/step\n",
            "Epoch 285/300\n",
            "2425/2425 - 50s - loss: 1.2899 - accuracy: 0.4958 - lr: 2.7000e-04 - 50s/epoch - 21ms/step\n",
            "Epoch 286/300\n",
            "2425/2425 - 50s - loss: 1.2896 - accuracy: 0.4959 - lr: 2.7000e-04 - 50s/epoch - 21ms/step\n",
            "Epoch 287/300\n",
            "2425/2425 - 50s - loss: 1.2891 - accuracy: 0.4961 - lr: 2.7000e-04 - 50s/epoch - 21ms/step\n",
            "Epoch 288/300\n",
            "2425/2425 - 50s - loss: 1.2890 - accuracy: 0.4960 - lr: 2.7000e-04 - 50s/epoch - 21ms/step\n",
            "Epoch 289/300\n",
            "2425/2425 - 50s - loss: 1.2883 - accuracy: 0.4961 - lr: 2.7000e-04 - 50s/epoch - 20ms/step\n",
            "Epoch 290/300\n",
            "2425/2425 - 50s - loss: 1.2883 - accuracy: 0.4958 - lr: 2.7000e-04 - 50s/epoch - 21ms/step\n",
            "Epoch 291/300\n",
            "2425/2425 - 50s - loss: 1.2877 - accuracy: 0.4955 - lr: 2.7000e-04 - 50s/epoch - 20ms/step\n",
            "Epoch 292/300\n",
            "2425/2425 - 50s - loss: 1.2873 - accuracy: 0.4965 - lr: 2.7000e-04 - 50s/epoch - 20ms/step\n",
            "Epoch 293/300\n",
            "2425/2425 - 50s - loss: 1.2869 - accuracy: 0.4964 - lr: 2.7000e-04 - 50s/epoch - 21ms/step\n",
            "Epoch 294/300\n",
            "2425/2425 - 50s - loss: 1.2866 - accuracy: 0.4970 - lr: 2.7000e-04 - 50s/epoch - 20ms/step\n",
            "Epoch 295/300\n",
            "2425/2425 - 50s - loss: 1.2865 - accuracy: 0.4975 - lr: 2.7000e-04 - 50s/epoch - 20ms/step\n",
            "Epoch 296/300\n",
            "2425/2425 - 50s - loss: 1.2860 - accuracy: 0.4967 - lr: 2.7000e-04 - 50s/epoch - 20ms/step\n",
            "Epoch 297/300\n",
            "2425/2425 - 50s - loss: 1.2855 - accuracy: 0.4973 - lr: 2.7000e-04 - 50s/epoch - 20ms/step\n",
            "Epoch 298/300\n",
            "2425/2425 - 50s - loss: 1.2853 - accuracy: 0.4972 - lr: 2.7000e-04 - 50s/epoch - 20ms/step\n",
            "Epoch 299/300\n",
            "2425/2425 - 49s - loss: 1.2849 - accuracy: 0.4972 - lr: 2.7000e-04 - 49s/epoch - 20ms/step\n",
            "Epoch 300/300\n",
            "2425/2425 - 50s - loss: 1.2845 - accuracy: 0.4978 - lr: 2.7000e-04 - 50s/epoch - 20ms/step\n"
          ]
        },
        {
          "output_type": "execute_result",
          "data": {
            "text/plain": [
              "<keras.callbacks.History at 0x7fde9da7df50>"
            ]
          },
          "metadata": {},
          "execution_count": 35
        }
      ]
    },
    {
      "cell_type": "code",
      "metadata": {
        "colab": {
          "base_uri": "https://localhost:8080/"
        },
        "id": "rt7XgOGwFAzG",
        "outputId": "7ce16c9f-91be-434b-b09d-49f5c6d853c1"
      },
      "source": [
        "#model.save('drive/MyDrive/model.h5') #If using Google Colab\n",
        "#model.save('model.h5')"
      ],
      "execution_count": null,
      "outputs": [
        {
          "output_type": "stream",
          "name": "stderr",
          "text": [
            "WARNING:absl:Found untraced functions such as leaky_re_lu_layer_call_fn, leaky_re_lu_layer_call_and_return_conditional_losses, leaky_re_lu_1_layer_call_fn, leaky_re_lu_1_layer_call_and_return_conditional_losses, leaky_re_lu_2_layer_call_fn while saving (showing 5 of 20). These functions will not be directly callable after loading.\n"
          ]
        },
        {
          "output_type": "stream",
          "name": "stdout",
          "text": [
            "INFO:tensorflow:Assets written to: drive/MyDrive/model/assets\n"
          ]
        },
        {
          "output_type": "stream",
          "name": "stderr",
          "text": [
            "INFO:tensorflow:Assets written to: drive/MyDrive/model/assets\n"
          ]
        }
      ]
    },
    {
      "cell_type": "code",
      "metadata": {
        "id": "lJbVm_Z8GGTQ"
      },
      "source": [
        "model.save('drive/MyDrive/model.h5')"
      ],
      "execution_count": null,
      "outputs": []
    },
    {
      "cell_type": "markdown",
      "metadata": {
        "id": "LPQpjG3C33Vp"
      },
      "source": [
        "## LOAD SAVED MODEL:"
      ]
    },
    {
      "cell_type": "code",
      "metadata": {
        "id": "MuEQ7kXAxESF"
      },
      "source": [
        "import keras\n",
        "reconstructed_model = keras.models.load_model(\"drive/MyDrive/model.h5\")"
      ],
      "execution_count": 40,
      "outputs": []
    },
    {
      "cell_type": "code",
      "metadata": {
        "id": "te72uN3GoYqc"
      },
      "source": [
        "y_pred = reconstructed_model.predict(X_test) #predict"
      ],
      "execution_count": 47,
      "outputs": []
    },
    {
      "cell_type": "code",
      "metadata": {
        "id": "YRX9VUq6gpMB"
      },
      "source": [
        "y_pred_sort = np.argsort(y_pred, axis=1)"
      ],
      "execution_count": 48,
      "outputs": []
    },
    {
      "cell_type": "code",
      "metadata": {
        "colab": {
          "base_uri": "https://localhost:8080/"
        },
        "id": "r8Lq1iKIgzQQ",
        "outputId": "864e2e66-2e22-461e-dd66-93175ddf8bf4"
      },
      "source": [
        "y_pred_sort.shape"
      ],
      "execution_count": 49,
      "outputs": [
        {
          "output_type": "execute_result",
          "data": {
            "text/plain": [
              "(121217, 7)"
            ]
          },
          "metadata": {},
          "execution_count": 49
        }
      ]
    },
    {
      "cell_type": "code",
      "metadata": {
        "colab": {
          "base_uri": "https://localhost:8080/"
        },
        "id": "GwlHS--yhpZx",
        "outputId": "068e2428-af69-4114-c728-150b2ca6dcca"
      },
      "source": [
        "y_pred_sort[1]"
      ],
      "execution_count": 50,
      "outputs": [
        {
          "output_type": "execute_result",
          "data": {
            "text/plain": [
              "array([3, 4, 5, 1, 6, 0, 2])"
            ]
          },
          "metadata": {},
          "execution_count": 50
        }
      ]
    },
    {
      "cell_type": "markdown",
      "metadata": {
        "id": "llnhFc1M43P5"
      },
      "source": [
        "### Predicting top 3 crimes:"
      ]
    },
    {
      "cell_type": "code",
      "metadata": {
        "id": "A0-OajmUsN50"
      },
      "source": [
        "y_pred_2 = np.delete(y_pred_sort, [0,1,2,3], axis=1)"
      ],
      "execution_count": 51,
      "outputs": []
    },
    {
      "cell_type": "code",
      "metadata": {
        "colab": {
          "base_uri": "https://localhost:8080/"
        },
        "id": "nmG7WJzChmXg",
        "outputId": "5615b3f2-c5f6-4545-f5ce-afa81e53a4dd"
      },
      "source": [
        "y_pred_2[3]"
      ],
      "execution_count": 52,
      "outputs": [
        {
          "output_type": "execute_result",
          "data": {
            "text/plain": [
              "array([6, 4, 5])"
            ]
          },
          "metadata": {},
          "execution_count": 52
        }
      ]
    },
    {
      "cell_type": "code",
      "metadata": {
        "id": "3K8WAnlSjFSR"
      },
      "source": [
        "def new_accuracy(pred,true):\n",
        "  l = []\n",
        "  for i in range(len(true)):\n",
        "    if true[i] in pred[i]:\n",
        "      l.append(1)\n",
        "    else:\n",
        "      l.append(0)\n",
        "\n",
        "  acc = sum(l)/len(l)\n",
        "  print(acc)\n"
      ],
      "execution_count": 53,
      "outputs": []
    },
    {
      "cell_type": "code",
      "metadata": {
        "id": "MQNjuFjakdcH"
      },
      "source": [
        "x = np.array(y_test_copy)"
      ],
      "execution_count": 55,
      "outputs": []
    },
    {
      "cell_type": "code",
      "metadata": {
        "colab": {
          "base_uri": "https://localhost:8080/"
        },
        "id": "ZK2cRGfgj7Py",
        "outputId": "57f872c4-3c37-4470-fb2c-df109ae3db41"
      },
      "source": [
        "new_accuracy(y_pred_2,x)"
      ],
      "execution_count": 57,
      "outputs": [
        {
          "output_type": "stream",
          "name": "stdout",
          "text": [
            "0.8066772812394302\n"
          ]
        }
      ]
    },
    {
      "cell_type": "markdown",
      "metadata": {
        "id": "T6FDuNoV8Btc"
      },
      "source": [
        "## Predicting top 2 crimes:"
      ]
    },
    {
      "cell_type": "code",
      "metadata": {
        "id": "ANp_jMYa8Hyc"
      },
      "source": [
        "y_pred_2 = np.delete(y_pred_sort, [0,1,2,3,4], axis=1)"
      ],
      "execution_count": 58,
      "outputs": []
    },
    {
      "cell_type": "code",
      "metadata": {
        "colab": {
          "base_uri": "https://localhost:8080/"
        },
        "id": "JBv8J6pO8A2M",
        "outputId": "e3b4fd1f-0bcd-4215-c839-b2d79e772119"
      },
      "source": [
        "y_pred_2[3]"
      ],
      "execution_count": 59,
      "outputs": [
        {
          "output_type": "execute_result",
          "data": {
            "text/plain": [
              "array([4, 5])"
            ]
          },
          "metadata": {},
          "execution_count": 59
        }
      ]
    },
    {
      "cell_type": "code",
      "metadata": {
        "id": "1Eci0DPF8NqM"
      },
      "source": [
        "x = np.array(y_test_copy)"
      ],
      "execution_count": 60,
      "outputs": []
    },
    {
      "cell_type": "code",
      "metadata": {
        "colab": {
          "base_uri": "https://localhost:8080/"
        },
        "id": "GpW3Q9do8P1t",
        "outputId": "63fb9a6f-1620-4bc2-bb4e-48f464cf9914"
      },
      "source": [
        "new_accuracy(y_pred_2,x)"
      ],
      "execution_count": 61,
      "outputs": [
        {
          "output_type": "stream",
          "name": "stdout",
          "text": [
            "0.6770007507197835\n"
          ]
        }
      ]
    },
    {
      "cell_type": "code",
      "metadata": {
        "colab": {
          "base_uri": "https://localhost:8080/",
          "height": 644
        },
        "id": "ApKu1dIrmGg4",
        "outputId": "fa427a04-e45c-4dca-9700-61f750774bbc"
      },
      "source": [
        "from tensorflow.keras.utils import plot_model\n",
        "\n",
        "plot_model(reconstructed_model, show_shapes=True)"
      ],
      "execution_count": null,
      "outputs": [
        {
          "output_type": "execute_result",
          "data": {
            "image/png": "[encoded data removed]",
            "text/plain": [
              "<IPython.core.display.Image object>"
            ]
          },
          "metadata": {},
          "execution_count": 91
        }
      ]
    }
  ]
}